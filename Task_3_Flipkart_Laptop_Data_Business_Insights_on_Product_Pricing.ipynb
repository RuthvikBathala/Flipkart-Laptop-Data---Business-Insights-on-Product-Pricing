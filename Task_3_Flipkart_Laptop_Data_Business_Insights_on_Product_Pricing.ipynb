{
 "cells": [
  {
   "cell_type": "code",
   "execution_count": 7,
   "metadata": {
    "colab": {
     "base_uri": "https://localhost:8080/",
     "height": 206
    },
    "id": "5ZIlo3wvTeLN",
    "outputId": "db603a57-9ee9-4e9a-f735-d65dd7506d1d"
   },
   "outputs": [
    {
     "data": {
      "text/html": [
       "<div>\n",
       "<style scoped>\n",
       "    .dataframe tbody tr th:only-of-type {\n",
       "        vertical-align: middle;\n",
       "    }\n",
       "\n",
       "    .dataframe tbody tr th {\n",
       "        vertical-align: top;\n",
       "    }\n",
       "\n",
       "    .dataframe thead th {\n",
       "        text-align: right;\n",
       "    }\n",
       "</style>\n",
       "<table border=\"1\" class=\"dataframe\">\n",
       "  <thead>\n",
       "    <tr style=\"text-align: right;\">\n",
       "      <th></th>\n",
       "      <th>Product</th>\n",
       "      <th>Rating</th>\n",
       "      <th>MRP</th>\n",
       "      <th>Feature</th>\n",
       "    </tr>\n",
       "  </thead>\n",
       "  <tbody>\n",
       "    <tr>\n",
       "      <th>0</th>\n",
       "      <td>Lenovo IdeaPad 3 Core i3 11th Gen - (8 GB/256 ...</td>\n",
       "      <td>4.2</td>\n",
       "      <td>?36,990</td>\n",
       "      <td>Intel Core i3 Processor (11th Gen)8 GB DDR4 RA...</td>\n",
       "    </tr>\n",
       "    <tr>\n",
       "      <th>1</th>\n",
       "      <td>Lenovo IdeaPad 3 Core i3 11th Gen - (8 GB/512 ...</td>\n",
       "      <td>4.2</td>\n",
       "      <td>?39,990</td>\n",
       "      <td>Intel Core i3 Processor (11th Gen)8 GB DDR4 RA...</td>\n",
       "    </tr>\n",
       "    <tr>\n",
       "      <th>2</th>\n",
       "      <td>ASUS VivoBook 15 (2022) Core i3 10th Gen - (8 ...</td>\n",
       "      <td>4.3</td>\n",
       "      <td>?32,990</td>\n",
       "      <td>Intel Core i3 Processor (10th Gen)8 GB DDR4 RA...</td>\n",
       "    </tr>\n",
       "    <tr>\n",
       "      <th>3</th>\n",
       "      <td>HP Pavilion Ryzen 5 Hexa Core AMD R5-5600H - (...</td>\n",
       "      <td>4.4</td>\n",
       "      <td>?49,990</td>\n",
       "      <td>AMD Ryzen 5 Hexa Core Processor8 GB DDR4 RAM64...</td>\n",
       "    </tr>\n",
       "    <tr>\n",
       "      <th>4</th>\n",
       "      <td>ASUS TUF Gaming F15 Core i5 10th Gen - (8 GB/5...</td>\n",
       "      <td>4.4</td>\n",
       "      <td>?49,990</td>\n",
       "      <td>Intel Core i5 Processor (10th Gen)8 GB DDR4 RA...</td>\n",
       "    </tr>\n",
       "  </tbody>\n",
       "</table>\n",
       "</div>"
      ],
      "text/plain": [
       "                                             Product  Rating      MRP  \\\n",
       "0  Lenovo IdeaPad 3 Core i3 11th Gen - (8 GB/256 ...     4.2  ?36,990   \n",
       "1  Lenovo IdeaPad 3 Core i3 11th Gen - (8 GB/512 ...     4.2  ?39,990   \n",
       "2  ASUS VivoBook 15 (2022) Core i3 10th Gen - (8 ...     4.3  ?32,990   \n",
       "3  HP Pavilion Ryzen 5 Hexa Core AMD R5-5600H - (...     4.4  ?49,990   \n",
       "4  ASUS TUF Gaming F15 Core i5 10th Gen - (8 GB/5...     4.4  ?49,990   \n",
       "\n",
       "                                             Feature  \n",
       "0  Intel Core i3 Processor (11th Gen)8 GB DDR4 RA...  \n",
       "1  Intel Core i3 Processor (11th Gen)8 GB DDR4 RA...  \n",
       "2  Intel Core i3 Processor (10th Gen)8 GB DDR4 RA...  \n",
       "3  AMD Ryzen 5 Hexa Core Processor8 GB DDR4 RAM64...  \n",
       "4  Intel Core i5 Processor (10th Gen)8 GB DDR4 RA...  "
      ]
     },
     "execution_count": 7,
     "metadata": {},
     "output_type": "execute_result"
    }
   ],
   "source": [
    "import pandas as pd\n",
    "import numpy as np\n",
    "import re\n",
    "import matplotlib.pyplot as plt\n",
    "import seaborn as sns\n",
    "\n",
    "df = pd.read_csv(r\"C:\\Users\\RUTHVIK\\Desktop\\internship\\Innomatics proj\\Task 3 - Flipkart Laptop Data - Business Insights on Product Pricing\\resourses\\data\\laptop_details.csv\", encoding= 'unicode_escape')\n",
    "df.head()"
   ]
  },
  {
   "cell_type": "code",
   "execution_count": 8,
   "metadata": {
    "colab": {
     "base_uri": "https://localhost:8080/"
    },
    "id": "2nk7k12EV8cg",
    "outputId": "1c9da7e9-0d9b-462e-9073-c5fcdd183606"
   },
   "outputs": [
    {
     "name": "stdout",
     "output_type": "stream",
     "text": [
      "<class 'pandas.core.frame.DataFrame'>\n",
      "RangeIndex: 720 entries, 0 to 719\n",
      "Data columns (total 4 columns):\n",
      " #   Column   Non-Null Count  Dtype  \n",
      "---  ------   --------------  -----  \n",
      " 0   Product  720 non-null    object \n",
      " 1   Rating   581 non-null    float64\n",
      " 2   MRP      720 non-null    object \n",
      " 3   Feature  720 non-null    object \n",
      "dtypes: float64(1), object(3)\n",
      "memory usage: 22.6+ KB\n"
     ]
    }
   ],
   "source": [
    "df.info()"
   ]
  },
  {
   "cell_type": "markdown",
   "metadata": {
    "id": "4YEqonsFgofX"
   },
   "source": [
    "# Feature Engineering"
   ]
  },
  {
   "cell_type": "code",
   "execution_count": 9,
   "metadata": {
    "colab": {
     "base_uri": "https://localhost:8080/",
     "height": 206
    },
    "id": "ZmiaunssWC9g",
    "outputId": "ee05afec-1349-4ae1-da5a-8526400c289a"
   },
   "outputs": [
    {
     "data": {
      "text/html": [
       "<div>\n",
       "<style scoped>\n",
       "    .dataframe tbody tr th:only-of-type {\n",
       "        vertical-align: middle;\n",
       "    }\n",
       "\n",
       "    .dataframe tbody tr th {\n",
       "        vertical-align: top;\n",
       "    }\n",
       "\n",
       "    .dataframe thead th {\n",
       "        text-align: right;\n",
       "    }\n",
       "</style>\n",
       "<table border=\"1\" class=\"dataframe\">\n",
       "  <thead>\n",
       "    <tr style=\"text-align: right;\">\n",
       "      <th></th>\n",
       "      <th>Product</th>\n",
       "      <th>Rating</th>\n",
       "      <th>MRP</th>\n",
       "      <th>Feature</th>\n",
       "    </tr>\n",
       "  </thead>\n",
       "  <tbody>\n",
       "    <tr>\n",
       "      <th>0</th>\n",
       "      <td>Lenovo IdeaPad 3 Core i3 11th Gen - (8 GB/256 ...</td>\n",
       "      <td>4.2</td>\n",
       "      <td>36990</td>\n",
       "      <td>Intel Core i3 Processor (11th Gen)8 GB DDR4 RA...</td>\n",
       "    </tr>\n",
       "    <tr>\n",
       "      <th>1</th>\n",
       "      <td>Lenovo IdeaPad 3 Core i3 11th Gen - (8 GB/512 ...</td>\n",
       "      <td>4.2</td>\n",
       "      <td>39990</td>\n",
       "      <td>Intel Core i3 Processor (11th Gen)8 GB DDR4 RA...</td>\n",
       "    </tr>\n",
       "    <tr>\n",
       "      <th>2</th>\n",
       "      <td>ASUS VivoBook 15 (2022) Core i3 10th Gen - (8 ...</td>\n",
       "      <td>4.3</td>\n",
       "      <td>32990</td>\n",
       "      <td>Intel Core i3 Processor (10th Gen)8 GB DDR4 RA...</td>\n",
       "    </tr>\n",
       "    <tr>\n",
       "      <th>3</th>\n",
       "      <td>HP Pavilion Ryzen 5 Hexa Core AMD R5-5600H - (...</td>\n",
       "      <td>4.4</td>\n",
       "      <td>49990</td>\n",
       "      <td>AMD Ryzen 5 Hexa Core Processor8 GB DDR4 RAM64...</td>\n",
       "    </tr>\n",
       "    <tr>\n",
       "      <th>4</th>\n",
       "      <td>ASUS TUF Gaming F15 Core i5 10th Gen - (8 GB/5...</td>\n",
       "      <td>4.4</td>\n",
       "      <td>49990</td>\n",
       "      <td>Intel Core i5 Processor (10th Gen)8 GB DDR4 RA...</td>\n",
       "    </tr>\n",
       "  </tbody>\n",
       "</table>\n",
       "</div>"
      ],
      "text/plain": [
       "                                             Product  Rating    MRP  \\\n",
       "0  Lenovo IdeaPad 3 Core i3 11th Gen - (8 GB/256 ...     4.2  36990   \n",
       "1  Lenovo IdeaPad 3 Core i3 11th Gen - (8 GB/512 ...     4.2  39990   \n",
       "2  ASUS VivoBook 15 (2022) Core i3 10th Gen - (8 ...     4.3  32990   \n",
       "3  HP Pavilion Ryzen 5 Hexa Core AMD R5-5600H - (...     4.4  49990   \n",
       "4  ASUS TUF Gaming F15 Core i5 10th Gen - (8 GB/5...     4.4  49990   \n",
       "\n",
       "                                             Feature  \n",
       "0  Intel Core i3 Processor (11th Gen)8 GB DDR4 RA...  \n",
       "1  Intel Core i3 Processor (11th Gen)8 GB DDR4 RA...  \n",
       "2  Intel Core i3 Processor (10th Gen)8 GB DDR4 RA...  \n",
       "3  AMD Ryzen 5 Hexa Core Processor8 GB DDR4 RAM64...  \n",
       "4  Intel Core i5 Processor (10th Gen)8 GB DDR4 RA...  "
      ]
     },
     "execution_count": 9,
     "metadata": {},
     "output_type": "execute_result"
    }
   ],
   "source": [
    "# Converting MRP attribute to int\n",
    "df['MRP'] = df['MRP'].apply(lambda x : x.replace('?', ''))\n",
    "df['MRP'] = df['MRP'].apply(lambda x : x.replace(',', ''))\n",
    "df['MRP'] = df['MRP'].astype(int)\n",
    "df.head()"
   ]
  },
  {
   "cell_type": "code",
   "execution_count": 10,
   "metadata": {
    "colab": {
     "base_uri": "https://localhost:8080/"
    },
    "id": "oI85-Qneunuy",
    "outputId": "5762a5bb-3905-4b04-bd42-ba526bffad5f"
   },
   "outputs": [
    {
     "name": "stdout",
     "output_type": "stream",
     "text": [
      "<class 'pandas.core.frame.DataFrame'>\n",
      "RangeIndex: 720 entries, 0 to 719\n",
      "Data columns (total 4 columns):\n",
      " #   Column   Non-Null Count  Dtype  \n",
      "---  ------   --------------  -----  \n",
      " 0   Product  720 non-null    object \n",
      " 1   Rating   581 non-null    float64\n",
      " 2   MRP      720 non-null    int32  \n",
      " 3   Feature  720 non-null    object \n",
      "dtypes: float64(1), int32(1), object(2)\n",
      "memory usage: 19.8+ KB\n"
     ]
    }
   ],
   "source": [
    "df.info()"
   ]
  },
  {
   "cell_type": "code",
   "execution_count": 11,
   "metadata": {
    "colab": {
     "base_uri": "https://localhost:8080/",
     "height": 206
    },
    "id": "mdXV1BsITaLk",
    "outputId": "fa440060-d858-464a-b8f5-d6e05327f674"
   },
   "outputs": [
    {
     "data": {
      "text/html": [
       "<div>\n",
       "<style scoped>\n",
       "    .dataframe tbody tr th:only-of-type {\n",
       "        vertical-align: middle;\n",
       "    }\n",
       "\n",
       "    .dataframe tbody tr th {\n",
       "        vertical-align: top;\n",
       "    }\n",
       "\n",
       "    .dataframe thead th {\n",
       "        text-align: right;\n",
       "    }\n",
       "</style>\n",
       "<table border=\"1\" class=\"dataframe\">\n",
       "  <thead>\n",
       "    <tr style=\"text-align: right;\">\n",
       "      <th></th>\n",
       "      <th>Product</th>\n",
       "      <th>Rating</th>\n",
       "      <th>MRP</th>\n",
       "      <th>Feature</th>\n",
       "      <th>Brand</th>\n",
       "    </tr>\n",
       "  </thead>\n",
       "  <tbody>\n",
       "    <tr>\n",
       "      <th>0</th>\n",
       "      <td>Lenovo IdeaPad 3 Core i3 11th Gen - (8 GB/256 ...</td>\n",
       "      <td>4.2</td>\n",
       "      <td>36990</td>\n",
       "      <td>Intel Core i3 Processor (11th Gen)8 GB DDR4 RA...</td>\n",
       "      <td>Lenovo</td>\n",
       "    </tr>\n",
       "    <tr>\n",
       "      <th>1</th>\n",
       "      <td>Lenovo IdeaPad 3 Core i3 11th Gen - (8 GB/512 ...</td>\n",
       "      <td>4.2</td>\n",
       "      <td>39990</td>\n",
       "      <td>Intel Core i3 Processor (11th Gen)8 GB DDR4 RA...</td>\n",
       "      <td>Lenovo</td>\n",
       "    </tr>\n",
       "    <tr>\n",
       "      <th>2</th>\n",
       "      <td>ASUS VivoBook 15 (2022) Core i3 10th Gen - (8 ...</td>\n",
       "      <td>4.3</td>\n",
       "      <td>32990</td>\n",
       "      <td>Intel Core i3 Processor (10th Gen)8 GB DDR4 RA...</td>\n",
       "      <td>ASUS</td>\n",
       "    </tr>\n",
       "    <tr>\n",
       "      <th>3</th>\n",
       "      <td>HP Pavilion Ryzen 5 Hexa Core AMD R5-5600H - (...</td>\n",
       "      <td>4.4</td>\n",
       "      <td>49990</td>\n",
       "      <td>AMD Ryzen 5 Hexa Core Processor8 GB DDR4 RAM64...</td>\n",
       "      <td>HP</td>\n",
       "    </tr>\n",
       "    <tr>\n",
       "      <th>4</th>\n",
       "      <td>ASUS TUF Gaming F15 Core i5 10th Gen - (8 GB/5...</td>\n",
       "      <td>4.4</td>\n",
       "      <td>49990</td>\n",
       "      <td>Intel Core i5 Processor (10th Gen)8 GB DDR4 RA...</td>\n",
       "      <td>ASUS</td>\n",
       "    </tr>\n",
       "  </tbody>\n",
       "</table>\n",
       "</div>"
      ],
      "text/plain": [
       "                                             Product  Rating    MRP  \\\n",
       "0  Lenovo IdeaPad 3 Core i3 11th Gen - (8 GB/256 ...     4.2  36990   \n",
       "1  Lenovo IdeaPad 3 Core i3 11th Gen - (8 GB/512 ...     4.2  39990   \n",
       "2  ASUS VivoBook 15 (2022) Core i3 10th Gen - (8 ...     4.3  32990   \n",
       "3  HP Pavilion Ryzen 5 Hexa Core AMD R5-5600H - (...     4.4  49990   \n",
       "4  ASUS TUF Gaming F15 Core i5 10th Gen - (8 GB/5...     4.4  49990   \n",
       "\n",
       "                                             Feature   Brand  \n",
       "0  Intel Core i3 Processor (11th Gen)8 GB DDR4 RA...  Lenovo  \n",
       "1  Intel Core i3 Processor (11th Gen)8 GB DDR4 RA...  Lenovo  \n",
       "2  Intel Core i3 Processor (10th Gen)8 GB DDR4 RA...    ASUS  \n",
       "3  AMD Ryzen 5 Hexa Core Processor8 GB DDR4 RAM64...      HP  \n",
       "4  Intel Core i5 Processor (10th Gen)8 GB DDR4 RA...    ASUS  "
      ]
     },
     "execution_count": 11,
     "metadata": {},
     "output_type": "execute_result"
    }
   ],
   "source": [
    "# Brand\n",
    "regex = r'^\\w+'\n",
    "df['Brand']=df['Product'].apply(lambda x : re.findall(regex, x))\n",
    "df['Brand']= df['Brand'].apply(lambda x : ''.join(x))\n",
    "df.head()"
   ]
  },
  {
   "cell_type": "code",
   "execution_count": 12,
   "metadata": {
    "colab": {
     "base_uri": "https://localhost:8080/",
     "height": 206
    },
    "id": "xAMzv-xVUbcj",
    "outputId": "9b15e4e9-607d-44fd-db26-f0f7ca022add"
   },
   "outputs": [
    {
     "data": {
      "text/html": [
       "<div>\n",
       "<style scoped>\n",
       "    .dataframe tbody tr th:only-of-type {\n",
       "        vertical-align: middle;\n",
       "    }\n",
       "\n",
       "    .dataframe tbody tr th {\n",
       "        vertical-align: top;\n",
       "    }\n",
       "\n",
       "    .dataframe thead th {\n",
       "        text-align: right;\n",
       "    }\n",
       "</style>\n",
       "<table border=\"1\" class=\"dataframe\">\n",
       "  <thead>\n",
       "    <tr style=\"text-align: right;\">\n",
       "      <th></th>\n",
       "      <th>Product</th>\n",
       "      <th>Rating</th>\n",
       "      <th>MRP</th>\n",
       "      <th>Feature</th>\n",
       "      <th>Brand</th>\n",
       "      <th>Processor</th>\n",
       "    </tr>\n",
       "  </thead>\n",
       "  <tbody>\n",
       "    <tr>\n",
       "      <th>0</th>\n",
       "      <td>Lenovo IdeaPad 3 Core i3 11th Gen - (8 GB/256 ...</td>\n",
       "      <td>4.2</td>\n",
       "      <td>36990</td>\n",
       "      <td>Intel Core i3 Processor (11th Gen)8 GB DDR4 RA...</td>\n",
       "      <td>Lenovo</td>\n",
       "      <td>Intel Core i3</td>\n",
       "    </tr>\n",
       "    <tr>\n",
       "      <th>1</th>\n",
       "      <td>Lenovo IdeaPad 3 Core i3 11th Gen - (8 GB/512 ...</td>\n",
       "      <td>4.2</td>\n",
       "      <td>39990</td>\n",
       "      <td>Intel Core i3 Processor (11th Gen)8 GB DDR4 RA...</td>\n",
       "      <td>Lenovo</td>\n",
       "      <td>Intel Core i3</td>\n",
       "    </tr>\n",
       "    <tr>\n",
       "      <th>2</th>\n",
       "      <td>ASUS VivoBook 15 (2022) Core i3 10th Gen - (8 ...</td>\n",
       "      <td>4.3</td>\n",
       "      <td>32990</td>\n",
       "      <td>Intel Core i3 Processor (10th Gen)8 GB DDR4 RA...</td>\n",
       "      <td>ASUS</td>\n",
       "      <td>Intel Core i3</td>\n",
       "    </tr>\n",
       "    <tr>\n",
       "      <th>3</th>\n",
       "      <td>HP Pavilion Ryzen 5 Hexa Core AMD R5-5600H - (...</td>\n",
       "      <td>4.4</td>\n",
       "      <td>49990</td>\n",
       "      <td>AMD Ryzen 5 Hexa Core Processor8 GB DDR4 RAM64...</td>\n",
       "      <td>HP</td>\n",
       "      <td>AMD Ryzen 5 Hexa Core</td>\n",
       "    </tr>\n",
       "    <tr>\n",
       "      <th>4</th>\n",
       "      <td>ASUS TUF Gaming F15 Core i5 10th Gen - (8 GB/5...</td>\n",
       "      <td>4.4</td>\n",
       "      <td>49990</td>\n",
       "      <td>Intel Core i5 Processor (10th Gen)8 GB DDR4 RA...</td>\n",
       "      <td>ASUS</td>\n",
       "      <td>Intel Core i5</td>\n",
       "    </tr>\n",
       "  </tbody>\n",
       "</table>\n",
       "</div>"
      ],
      "text/plain": [
       "                                             Product  Rating    MRP  \\\n",
       "0  Lenovo IdeaPad 3 Core i3 11th Gen - (8 GB/256 ...     4.2  36990   \n",
       "1  Lenovo IdeaPad 3 Core i3 11th Gen - (8 GB/512 ...     4.2  39990   \n",
       "2  ASUS VivoBook 15 (2022) Core i3 10th Gen - (8 ...     4.3  32990   \n",
       "3  HP Pavilion Ryzen 5 Hexa Core AMD R5-5600H - (...     4.4  49990   \n",
       "4  ASUS TUF Gaming F15 Core i5 10th Gen - (8 GB/5...     4.4  49990   \n",
       "\n",
       "                                             Feature   Brand  \\\n",
       "0  Intel Core i3 Processor (11th Gen)8 GB DDR4 RA...  Lenovo   \n",
       "1  Intel Core i3 Processor (11th Gen)8 GB DDR4 RA...  Lenovo   \n",
       "2  Intel Core i3 Processor (10th Gen)8 GB DDR4 RA...    ASUS   \n",
       "3  AMD Ryzen 5 Hexa Core Processor8 GB DDR4 RAM64...      HP   \n",
       "4  Intel Core i5 Processor (10th Gen)8 GB DDR4 RA...    ASUS   \n",
       "\n",
       "               Processor  \n",
       "0          Intel Core i3  \n",
       "1          Intel Core i3  \n",
       "2          Intel Core i3  \n",
       "3  AMD Ryzen 5 Hexa Core  \n",
       "4          Intel Core i5  "
      ]
     },
     "execution_count": 12,
     "metadata": {},
     "output_type": "execute_result"
    }
   ],
   "source": [
    "# Processor type\n",
    "regex= r'(?:AMD|Intel|M1|Apple)[\\s\\w]+Processor'\n",
    "df['Processor']=df['Feature'].apply(lambda x : re.findall(regex, x))\n",
    "df['Processor']=df['Processor'].apply(lambda x : ''.join(x))\n",
    "df['Processor']=df['Processor'].apply(lambda x: x.replace(\" Processor\", \"\"))\n",
    "df.head()"
   ]
  },
  {
   "cell_type": "code",
   "execution_count": 13,
   "metadata": {
    "colab": {
     "base_uri": "https://localhost:8080/",
     "height": 206
    },
    "id": "v-QoUZi6vfQA",
    "outputId": "f3e79922-ac17-4601-a48a-cdc974848371"
   },
   "outputs": [
    {
     "data": {
      "text/html": [
       "<div>\n",
       "<style scoped>\n",
       "    .dataframe tbody tr th:only-of-type {\n",
       "        vertical-align: middle;\n",
       "    }\n",
       "\n",
       "    .dataframe tbody tr th {\n",
       "        vertical-align: top;\n",
       "    }\n",
       "\n",
       "    .dataframe thead th {\n",
       "        text-align: right;\n",
       "    }\n",
       "</style>\n",
       "<table border=\"1\" class=\"dataframe\">\n",
       "  <thead>\n",
       "    <tr style=\"text-align: right;\">\n",
       "      <th></th>\n",
       "      <th>Product</th>\n",
       "      <th>Rating</th>\n",
       "      <th>MRP</th>\n",
       "      <th>Feature</th>\n",
       "      <th>Brand</th>\n",
       "      <th>Processor</th>\n",
       "      <th>OS</th>\n",
       "    </tr>\n",
       "  </thead>\n",
       "  <tbody>\n",
       "    <tr>\n",
       "      <th>0</th>\n",
       "      <td>Lenovo IdeaPad 3 Core i3 11th Gen - (8 GB/256 ...</td>\n",
       "      <td>4.2</td>\n",
       "      <td>36990</td>\n",
       "      <td>Intel Core i3 Processor (11th Gen)8 GB DDR4 RA...</td>\n",
       "      <td>Lenovo</td>\n",
       "      <td>Intel Core i3</td>\n",
       "      <td>64 bit Windows 11</td>\n",
       "    </tr>\n",
       "    <tr>\n",
       "      <th>1</th>\n",
       "      <td>Lenovo IdeaPad 3 Core i3 11th Gen - (8 GB/512 ...</td>\n",
       "      <td>4.2</td>\n",
       "      <td>39990</td>\n",
       "      <td>Intel Core i3 Processor (11th Gen)8 GB DDR4 RA...</td>\n",
       "      <td>Lenovo</td>\n",
       "      <td>Intel Core i3</td>\n",
       "      <td>64 bit Windows 11</td>\n",
       "    </tr>\n",
       "    <tr>\n",
       "      <th>2</th>\n",
       "      <td>ASUS VivoBook 15 (2022) Core i3 10th Gen - (8 ...</td>\n",
       "      <td>4.3</td>\n",
       "      <td>32990</td>\n",
       "      <td>Intel Core i3 Processor (10th Gen)8 GB DDR4 RA...</td>\n",
       "      <td>ASUS</td>\n",
       "      <td>Intel Core i3</td>\n",
       "      <td>64 bit Windows 11</td>\n",
       "    </tr>\n",
       "    <tr>\n",
       "      <th>3</th>\n",
       "      <td>HP Pavilion Ryzen 5 Hexa Core AMD R5-5600H - (...</td>\n",
       "      <td>4.4</td>\n",
       "      <td>49990</td>\n",
       "      <td>AMD Ryzen 5 Hexa Core Processor8 GB DDR4 RAM64...</td>\n",
       "      <td>HP</td>\n",
       "      <td>AMD Ryzen 5 Hexa Core</td>\n",
       "      <td>64 bit Windows 10</td>\n",
       "    </tr>\n",
       "    <tr>\n",
       "      <th>4</th>\n",
       "      <td>ASUS TUF Gaming F15 Core i5 10th Gen - (8 GB/5...</td>\n",
       "      <td>4.4</td>\n",
       "      <td>49990</td>\n",
       "      <td>Intel Core i5 Processor (10th Gen)8 GB DDR4 RA...</td>\n",
       "      <td>ASUS</td>\n",
       "      <td>Intel Core i5</td>\n",
       "      <td>Windows 11</td>\n",
       "    </tr>\n",
       "  </tbody>\n",
       "</table>\n",
       "</div>"
      ],
      "text/plain": [
       "                                             Product  Rating    MRP  \\\n",
       "0  Lenovo IdeaPad 3 Core i3 11th Gen - (8 GB/256 ...     4.2  36990   \n",
       "1  Lenovo IdeaPad 3 Core i3 11th Gen - (8 GB/512 ...     4.2  39990   \n",
       "2  ASUS VivoBook 15 (2022) Core i3 10th Gen - (8 ...     4.3  32990   \n",
       "3  HP Pavilion Ryzen 5 Hexa Core AMD R5-5600H - (...     4.4  49990   \n",
       "4  ASUS TUF Gaming F15 Core i5 10th Gen - (8 GB/5...     4.4  49990   \n",
       "\n",
       "                                             Feature   Brand  \\\n",
       "0  Intel Core i3 Processor (11th Gen)8 GB DDR4 RA...  Lenovo   \n",
       "1  Intel Core i3 Processor (11th Gen)8 GB DDR4 RA...  Lenovo   \n",
       "2  Intel Core i3 Processor (10th Gen)8 GB DDR4 RA...    ASUS   \n",
       "3  AMD Ryzen 5 Hexa Core Processor8 GB DDR4 RAM64...      HP   \n",
       "4  Intel Core i5 Processor (10th Gen)8 GB DDR4 RA...    ASUS   \n",
       "\n",
       "               Processor                 OS  \n",
       "0          Intel Core i3  64 bit Windows 11  \n",
       "1          Intel Core i3  64 bit Windows 11  \n",
       "2          Intel Core i3  64 bit Windows 11  \n",
       "3  AMD Ryzen 5 Hexa Core  64 bit Windows 10  \n",
       "4          Intel Core i5         Windows 11  "
      ]
     },
     "execution_count": 13,
     "metadata": {},
     "output_type": "execute_result"
    }
   ],
   "source": [
    "# OS\n",
    "regex = r'[\\d]+[\\s]bit[\\s\\w]+Operating System|[\\(Windows)\\d\\s]+Operating System|[\\(Chrome|Mac OS)]+Operating System'\n",
    "df['OS']=df['Feature'].apply(lambda x : re.findall(regex, x))\n",
    "df['OS']=df['OS'].apply(lambda x : ''.join(x))\n",
    "df['OS']=df['OS'].apply(lambda x: x.replace(\" Operating System\", \"\"))\n",
    "df.head()"
   ]
  },
  {
   "cell_type": "code",
   "execution_count": 14,
   "metadata": {
    "colab": {
     "base_uri": "https://localhost:8080/",
     "height": 206
    },
    "id": "ezSxv9fnwwvu",
    "outputId": "9440fe13-6f4c-4668-fd84-968ca145ab70"
   },
   "outputs": [
    {
     "data": {
      "text/html": [
       "<div>\n",
       "<style scoped>\n",
       "    .dataframe tbody tr th:only-of-type {\n",
       "        vertical-align: middle;\n",
       "    }\n",
       "\n",
       "    .dataframe tbody tr th {\n",
       "        vertical-align: top;\n",
       "    }\n",
       "\n",
       "    .dataframe thead th {\n",
       "        text-align: right;\n",
       "    }\n",
       "</style>\n",
       "<table border=\"1\" class=\"dataframe\">\n",
       "  <thead>\n",
       "    <tr style=\"text-align: right;\">\n",
       "      <th></th>\n",
       "      <th>Product</th>\n",
       "      <th>Rating</th>\n",
       "      <th>MRP</th>\n",
       "      <th>Feature</th>\n",
       "      <th>Brand</th>\n",
       "      <th>Processor</th>\n",
       "      <th>OS</th>\n",
       "      <th>RAM</th>\n",
       "    </tr>\n",
       "  </thead>\n",
       "  <tbody>\n",
       "    <tr>\n",
       "      <th>0</th>\n",
       "      <td>Lenovo IdeaPad 3 Core i3 11th Gen - (8 GB/256 ...</td>\n",
       "      <td>4.2</td>\n",
       "      <td>36990</td>\n",
       "      <td>Intel Core i3 Processor (11th Gen)8 GB DDR4 RA...</td>\n",
       "      <td>Lenovo</td>\n",
       "      <td>Intel Core i3</td>\n",
       "      <td>64 bit Windows 11</td>\n",
       "      <td>8 GB DDR4</td>\n",
       "    </tr>\n",
       "    <tr>\n",
       "      <th>1</th>\n",
       "      <td>Lenovo IdeaPad 3 Core i3 11th Gen - (8 GB/512 ...</td>\n",
       "      <td>4.2</td>\n",
       "      <td>39990</td>\n",
       "      <td>Intel Core i3 Processor (11th Gen)8 GB DDR4 RA...</td>\n",
       "      <td>Lenovo</td>\n",
       "      <td>Intel Core i3</td>\n",
       "      <td>64 bit Windows 11</td>\n",
       "      <td>8 GB DDR4</td>\n",
       "    </tr>\n",
       "    <tr>\n",
       "      <th>2</th>\n",
       "      <td>ASUS VivoBook 15 (2022) Core i3 10th Gen - (8 ...</td>\n",
       "      <td>4.3</td>\n",
       "      <td>32990</td>\n",
       "      <td>Intel Core i3 Processor (10th Gen)8 GB DDR4 RA...</td>\n",
       "      <td>ASUS</td>\n",
       "      <td>Intel Core i3</td>\n",
       "      <td>64 bit Windows 11</td>\n",
       "      <td>8 GB DDR4</td>\n",
       "    </tr>\n",
       "    <tr>\n",
       "      <th>3</th>\n",
       "      <td>HP Pavilion Ryzen 5 Hexa Core AMD R5-5600H - (...</td>\n",
       "      <td>4.4</td>\n",
       "      <td>49990</td>\n",
       "      <td>AMD Ryzen 5 Hexa Core Processor8 GB DDR4 RAM64...</td>\n",
       "      <td>HP</td>\n",
       "      <td>AMD Ryzen 5 Hexa Core</td>\n",
       "      <td>64 bit Windows 10</td>\n",
       "      <td>8 GB DDR4</td>\n",
       "    </tr>\n",
       "    <tr>\n",
       "      <th>4</th>\n",
       "      <td>ASUS TUF Gaming F15 Core i5 10th Gen - (8 GB/5...</td>\n",
       "      <td>4.4</td>\n",
       "      <td>49990</td>\n",
       "      <td>Intel Core i5 Processor (10th Gen)8 GB DDR4 RA...</td>\n",
       "      <td>ASUS</td>\n",
       "      <td>Intel Core i5</td>\n",
       "      <td>Windows 11</td>\n",
       "      <td>8 GB DDR4</td>\n",
       "    </tr>\n",
       "  </tbody>\n",
       "</table>\n",
       "</div>"
      ],
      "text/plain": [
       "                                             Product  Rating    MRP  \\\n",
       "0  Lenovo IdeaPad 3 Core i3 11th Gen - (8 GB/256 ...     4.2  36990   \n",
       "1  Lenovo IdeaPad 3 Core i3 11th Gen - (8 GB/512 ...     4.2  39990   \n",
       "2  ASUS VivoBook 15 (2022) Core i3 10th Gen - (8 ...     4.3  32990   \n",
       "3  HP Pavilion Ryzen 5 Hexa Core AMD R5-5600H - (...     4.4  49990   \n",
       "4  ASUS TUF Gaming F15 Core i5 10th Gen - (8 GB/5...     4.4  49990   \n",
       "\n",
       "                                             Feature   Brand  \\\n",
       "0  Intel Core i3 Processor (11th Gen)8 GB DDR4 RA...  Lenovo   \n",
       "1  Intel Core i3 Processor (11th Gen)8 GB DDR4 RA...  Lenovo   \n",
       "2  Intel Core i3 Processor (10th Gen)8 GB DDR4 RA...    ASUS   \n",
       "3  AMD Ryzen 5 Hexa Core Processor8 GB DDR4 RAM64...      HP   \n",
       "4  Intel Core i5 Processor (10th Gen)8 GB DDR4 RA...    ASUS   \n",
       "\n",
       "               Processor                 OS         RAM  \n",
       "0          Intel Core i3  64 bit Windows 11  8 GB DDR4   \n",
       "1          Intel Core i3  64 bit Windows 11  8 GB DDR4   \n",
       "2          Intel Core i3  64 bit Windows 11  8 GB DDR4   \n",
       "3  AMD Ryzen 5 Hexa Core  64 bit Windows 10  8 GB DDR4   \n",
       "4          Intel Core i5         Windows 11  8 GB DDR4   "
      ]
     },
     "execution_count": 14,
     "metadata": {},
     "output_type": "execute_result"
    }
   ],
   "source": [
    "# RAM\n",
    "regex = r'\\d+\\sGB[\\s\\w]+RAM'\n",
    "df['RAM'] = df['Feature'].apply(lambda x : re.findall(regex, x))\n",
    "df['RAM'] = df['RAM'].apply(lambda x : ''.join(x))\n",
    "df['RAM'] = df['RAM'].apply(lambda x : x.replace(\"RAM\",\"\"))\n",
    "df.head()"
   ]
  },
  {
   "cell_type": "code",
   "execution_count": 15,
   "metadata": {
    "colab": {
     "base_uri": "https://localhost:8080/",
     "height": 641
    },
    "id": "J-CCcDYW3Rvc",
    "outputId": "7e22aba9-9bd2-476e-a8e0-ca85f34681d4"
   },
   "outputs": [
    {
     "data": {
      "text/html": [
       "<div>\n",
       "<style scoped>\n",
       "    .dataframe tbody tr th:only-of-type {\n",
       "        vertical-align: middle;\n",
       "    }\n",
       "\n",
       "    .dataframe tbody tr th {\n",
       "        vertical-align: top;\n",
       "    }\n",
       "\n",
       "    .dataframe thead th {\n",
       "        text-align: right;\n",
       "    }\n",
       "</style>\n",
       "<table border=\"1\" class=\"dataframe\">\n",
       "  <thead>\n",
       "    <tr style=\"text-align: right;\">\n",
       "      <th></th>\n",
       "      <th>Product</th>\n",
       "      <th>Rating</th>\n",
       "      <th>MRP</th>\n",
       "      <th>Feature</th>\n",
       "      <th>Brand</th>\n",
       "      <th>Processor</th>\n",
       "      <th>OS</th>\n",
       "      <th>RAM</th>\n",
       "      <th>Storage</th>\n",
       "    </tr>\n",
       "  </thead>\n",
       "  <tbody>\n",
       "    <tr>\n",
       "      <th>0</th>\n",
       "      <td>Lenovo IdeaPad 3 Core i3 11th Gen - (8 GB/256 ...</td>\n",
       "      <td>4.2</td>\n",
       "      <td>36990</td>\n",
       "      <td>Intel Core i3 Processor (11th Gen)8 GB DDR4 RA...</td>\n",
       "      <td>Lenovo</td>\n",
       "      <td>Intel Core i3</td>\n",
       "      <td>64 bit Windows 11</td>\n",
       "      <td>8 GB DDR4</td>\n",
       "      <td>256 GB SSD</td>\n",
       "    </tr>\n",
       "    <tr>\n",
       "      <th>1</th>\n",
       "      <td>Lenovo IdeaPad 3 Core i3 11th Gen - (8 GB/512 ...</td>\n",
       "      <td>4.2</td>\n",
       "      <td>39990</td>\n",
       "      <td>Intel Core i3 Processor (11th Gen)8 GB DDR4 RA...</td>\n",
       "      <td>Lenovo</td>\n",
       "      <td>Intel Core i3</td>\n",
       "      <td>64 bit Windows 11</td>\n",
       "      <td>8 GB DDR4</td>\n",
       "      <td>512 GB SSD</td>\n",
       "    </tr>\n",
       "    <tr>\n",
       "      <th>2</th>\n",
       "      <td>ASUS VivoBook 15 (2022) Core i3 10th Gen - (8 ...</td>\n",
       "      <td>4.3</td>\n",
       "      <td>32990</td>\n",
       "      <td>Intel Core i3 Processor (10th Gen)8 GB DDR4 RA...</td>\n",
       "      <td>ASUS</td>\n",
       "      <td>Intel Core i3</td>\n",
       "      <td>64 bit Windows 11</td>\n",
       "      <td>8 GB DDR4</td>\n",
       "      <td>512 GB SSD</td>\n",
       "    </tr>\n",
       "    <tr>\n",
       "      <th>3</th>\n",
       "      <td>HP Pavilion Ryzen 5 Hexa Core AMD R5-5600H - (...</td>\n",
       "      <td>4.4</td>\n",
       "      <td>49990</td>\n",
       "      <td>AMD Ryzen 5 Hexa Core Processor8 GB DDR4 RAM64...</td>\n",
       "      <td>HP</td>\n",
       "      <td>AMD Ryzen 5 Hexa Core</td>\n",
       "      <td>64 bit Windows 10</td>\n",
       "      <td>8 GB DDR4</td>\n",
       "      <td>512 GB SSD</td>\n",
       "    </tr>\n",
       "    <tr>\n",
       "      <th>4</th>\n",
       "      <td>ASUS TUF Gaming F15 Core i5 10th Gen - (8 GB/5...</td>\n",
       "      <td>4.4</td>\n",
       "      <td>49990</td>\n",
       "      <td>Intel Core i5 Processor (10th Gen)8 GB DDR4 RA...</td>\n",
       "      <td>ASUS</td>\n",
       "      <td>Intel Core i5</td>\n",
       "      <td>Windows 11</td>\n",
       "      <td>8 GB DDR4</td>\n",
       "      <td>512 GB SSD</td>\n",
       "    </tr>\n",
       "    <tr>\n",
       "      <th>...</th>\n",
       "      <td>...</td>\n",
       "      <td>...</td>\n",
       "      <td>...</td>\n",
       "      <td>...</td>\n",
       "      <td>...</td>\n",
       "      <td>...</td>\n",
       "      <td>...</td>\n",
       "      <td>...</td>\n",
       "      <td>...</td>\n",
       "    </tr>\n",
       "    <tr>\n",
       "      <th>715</th>\n",
       "      <td>ASUS Chromebook Flip Touch Celeron Dual Core -...</td>\n",
       "      <td>4.0</td>\n",
       "      <td>23490</td>\n",
       "      <td>Intel Celeron Dual Core Processor4 GB LPDDR4 R...</td>\n",
       "      <td>ASUS</td>\n",
       "      <td>Intel Celeron Dual Core</td>\n",
       "      <td>MChrome</td>\n",
       "      <td>4 GB LPDDR4</td>\n",
       "      <td>64 GB EMMC</td>\n",
       "    </tr>\n",
       "    <tr>\n",
       "      <th>716</th>\n",
       "      <td>Lenovo IdeaPad Gaming 3 Ryzen 7 Octa Core AMD ...</td>\n",
       "      <td>4.5</td>\n",
       "      <td>73490</td>\n",
       "      <td>AMD Ryzen 7 Octa Core Processor8 GB DDR4 RAM64...</td>\n",
       "      <td>Lenovo</td>\n",
       "      <td>AMD Ryzen 7 Octa Core</td>\n",
       "      <td>64 bit Windows 11</td>\n",
       "      <td>8 GB DDR4</td>\n",
       "      <td>512 GB SSD</td>\n",
       "    </tr>\n",
       "    <tr>\n",
       "      <th>717</th>\n",
       "      <td>ASUS ROG Zephyrus G15 Ryzen 9 Octa Core 6900HS...</td>\n",
       "      <td>NaN</td>\n",
       "      <td>194990</td>\n",
       "      <td>AMD Ryzen 9 Octa Core Processor16 GB DDR5 RAM6...</td>\n",
       "      <td>ASUS</td>\n",
       "      <td>AMD Ryzen 9 Octa Core</td>\n",
       "      <td>64 bit Windows 11</td>\n",
       "      <td>16 GB DDR5</td>\n",
       "      <td>1 TB SSD</td>\n",
       "    </tr>\n",
       "    <tr>\n",
       "      <th>718</th>\n",
       "      <td>ASUS Zenbook Flip 14 OLED (2022) Touch Panel C...</td>\n",
       "      <td>3.0</td>\n",
       "      <td>125990</td>\n",
       "      <td>Intel Core i7 Processor (12th Gen)16 GB LPDDR5...</td>\n",
       "      <td>ASUS</td>\n",
       "      <td>Intel Core i7</td>\n",
       "      <td>64 bit Windows 11</td>\n",
       "      <td>16 GB LPDDR5</td>\n",
       "      <td>512 GB SSD</td>\n",
       "    </tr>\n",
       "    <tr>\n",
       "      <th>719</th>\n",
       "      <td>Lenovo Ideapad Slim 3i Core i5 10th Gen - (8 G...</td>\n",
       "      <td>4.2</td>\n",
       "      <td>50990</td>\n",
       "      <td>Intel Core i5 Processor (10th Gen)8 GB DDR4 RA...</td>\n",
       "      <td>Lenovo</td>\n",
       "      <td>Intel Core i5</td>\n",
       "      <td>64 bit Windows 10</td>\n",
       "      <td>8 GB DDR4</td>\n",
       "      <td>1 TB HDD256 GB SSD</td>\n",
       "    </tr>\n",
       "  </tbody>\n",
       "</table>\n",
       "<p>720 rows × 9 columns</p>\n",
       "</div>"
      ],
      "text/plain": [
       "                                               Product  Rating     MRP  \\\n",
       "0    Lenovo IdeaPad 3 Core i3 11th Gen - (8 GB/256 ...     4.2   36990   \n",
       "1    Lenovo IdeaPad 3 Core i3 11th Gen - (8 GB/512 ...     4.2   39990   \n",
       "2    ASUS VivoBook 15 (2022) Core i3 10th Gen - (8 ...     4.3   32990   \n",
       "3    HP Pavilion Ryzen 5 Hexa Core AMD R5-5600H - (...     4.4   49990   \n",
       "4    ASUS TUF Gaming F15 Core i5 10th Gen - (8 GB/5...     4.4   49990   \n",
       "..                                                 ...     ...     ...   \n",
       "715  ASUS Chromebook Flip Touch Celeron Dual Core -...     4.0   23490   \n",
       "716  Lenovo IdeaPad Gaming 3 Ryzen 7 Octa Core AMD ...     4.5   73490   \n",
       "717  ASUS ROG Zephyrus G15 Ryzen 9 Octa Core 6900HS...     NaN  194990   \n",
       "718  ASUS Zenbook Flip 14 OLED (2022) Touch Panel C...     3.0  125990   \n",
       "719  Lenovo Ideapad Slim 3i Core i5 10th Gen - (8 G...     4.2   50990   \n",
       "\n",
       "                                               Feature   Brand  \\\n",
       "0    Intel Core i3 Processor (11th Gen)8 GB DDR4 RA...  Lenovo   \n",
       "1    Intel Core i3 Processor (11th Gen)8 GB DDR4 RA...  Lenovo   \n",
       "2    Intel Core i3 Processor (10th Gen)8 GB DDR4 RA...    ASUS   \n",
       "3    AMD Ryzen 5 Hexa Core Processor8 GB DDR4 RAM64...      HP   \n",
       "4    Intel Core i5 Processor (10th Gen)8 GB DDR4 RA...    ASUS   \n",
       "..                                                 ...     ...   \n",
       "715  Intel Celeron Dual Core Processor4 GB LPDDR4 R...    ASUS   \n",
       "716  AMD Ryzen 7 Octa Core Processor8 GB DDR4 RAM64...  Lenovo   \n",
       "717  AMD Ryzen 9 Octa Core Processor16 GB DDR5 RAM6...    ASUS   \n",
       "718  Intel Core i7 Processor (12th Gen)16 GB LPDDR5...    ASUS   \n",
       "719  Intel Core i5 Processor (10th Gen)8 GB DDR4 RA...  Lenovo   \n",
       "\n",
       "                   Processor                 OS            RAM  \\\n",
       "0              Intel Core i3  64 bit Windows 11     8 GB DDR4    \n",
       "1              Intel Core i3  64 bit Windows 11     8 GB DDR4    \n",
       "2              Intel Core i3  64 bit Windows 11     8 GB DDR4    \n",
       "3      AMD Ryzen 5 Hexa Core  64 bit Windows 10     8 GB DDR4    \n",
       "4              Intel Core i5         Windows 11     8 GB DDR4    \n",
       "..                       ...                ...            ...   \n",
       "715  Intel Celeron Dual Core            MChrome   4 GB LPDDR4    \n",
       "716    AMD Ryzen 7 Octa Core  64 bit Windows 11     8 GB DDR4    \n",
       "717    AMD Ryzen 9 Octa Core  64 bit Windows 11    16 GB DDR5    \n",
       "718            Intel Core i7  64 bit Windows 11  16 GB LPDDR5    \n",
       "719            Intel Core i5  64 bit Windows 10     8 GB DDR4    \n",
       "\n",
       "                Storage  \n",
       "0            256 GB SSD  \n",
       "1            512 GB SSD  \n",
       "2            512 GB SSD  \n",
       "3            512 GB SSD  \n",
       "4            512 GB SSD  \n",
       "..                  ...  \n",
       "715          64 GB EMMC  \n",
       "716          512 GB SSD  \n",
       "717            1 TB SSD  \n",
       "718          512 GB SSD  \n",
       "719  1 TB HDD256 GB SSD  \n",
       "\n",
       "[720 rows x 9 columns]"
      ]
     },
     "execution_count": 15,
     "metadata": {},
     "output_type": "execute_result"
    }
   ],
   "source": [
    "# Storage\n",
    "regex = r'[\\d]+\\s(?:GB|TB)\\s(?:HDD|SSD|EMMC)'\n",
    "df['Storage']=df['Product'].apply(lambda x : re.findall(regex, x))\n",
    "df['Storage']=df['Storage'].apply(lambda x : ''.join(x))\n",
    "df"
   ]
  },
  {
   "cell_type": "code",
   "execution_count": 16,
   "metadata": {
    "colab": {
     "base_uri": "https://localhost:8080/"
    },
    "id": "5sk47wJw9FLb",
    "outputId": "037e51f1-e4e2-48d1-9b45-cb9cfaefa994"
   },
   "outputs": [
    {
     "name": "stdout",
     "output_type": "stream",
     "text": [
      "<class 'pandas.core.frame.DataFrame'>\n",
      "RangeIndex: 720 entries, 0 to 719\n",
      "Data columns (total 9 columns):\n",
      " #   Column     Non-Null Count  Dtype  \n",
      "---  ------     --------------  -----  \n",
      " 0   Product    720 non-null    object \n",
      " 1   Rating     581 non-null    float64\n",
      " 2   MRP        720 non-null    int32  \n",
      " 3   Feature    720 non-null    object \n",
      " 4   Brand      720 non-null    object \n",
      " 5   Processor  720 non-null    object \n",
      " 6   OS         720 non-null    object \n",
      " 7   RAM        720 non-null    object \n",
      " 8   Storage    720 non-null    object \n",
      "dtypes: float64(1), int32(1), object(7)\n",
      "memory usage: 47.9+ KB\n"
     ]
    }
   ],
   "source": [
    "df.info()"
   ]
  },
  {
   "cell_type": "code",
   "execution_count": 17,
   "metadata": {
    "colab": {
     "base_uri": "https://localhost:8080/"
    },
    "id": "B2IjMgLy8k9-",
    "outputId": "50758477-361b-4000-81b3-922d6b362f04"
   },
   "outputs": [
    {
     "data": {
      "text/plain": [
       "array(['Lenovo', 'ASUS', 'HP', 'DELL', 'RedmiBook', 'realme', 'acer',\n",
       "       'MSI', 'APPLE', 'Infinix', 'SAMSUNG', 'Ultimus', 'Vaio',\n",
       "       'GIGABYTE', 'Nokia', 'ALIENWARE'], dtype=object)"
      ]
     },
     "execution_count": 17,
     "metadata": {},
     "output_type": "execute_result"
    }
   ],
   "source": [
    "df['Brand'].unique()"
   ]
  },
  {
   "cell_type": "code",
   "execution_count": 18,
   "metadata": {
    "colab": {
     "base_uri": "https://localhost:8080/"
    },
    "id": "7cq3ALd79-g_",
    "outputId": "8d746ab2-285e-472b-8ceb-e6b1bae4105b"
   },
   "outputs": [
    {
     "data": {
      "text/plain": [
       "array(['Intel Core i3', 'AMD Ryzen 5 Hexa Core', 'Intel Core i5',\n",
       "       'Intel OptaneIntel Core i3', 'AMD Ryzen 7 Quad Core',\n",
       "       'AMD Ryzen 5 Quad Core', 'AMD Ryzen 9 Octa Core',\n",
       "       'AMD Ryzen 7 Octa Core', 'Apple M1', 'Intel Celeron Dual Core',\n",
       "       'AMD Ryzen 3 Dual Core', 'AMD Athlon Dual Core',\n",
       "       'Intel Evo Core i5Intel Core i5', 'AMD Ryzen 3 Quad Core',\n",
       "       'Apple M2', 'Intel Celeron Quad Core', 'Intel Core i7',\n",
       "       'Apple M1 Pro', '', 'Intel Pentium Silver', 'Apple M1 Max',\n",
       "       'Intel Core i9', 'AMD Ryzen 5 Dual Core',\n",
       "       'Intel Pentium Quad Core', 'AMD Dual Core',\n",
       "       'AMD Ryzen 3 Hexa Core'], dtype=object)"
      ]
     },
     "execution_count": 18,
     "metadata": {},
     "output_type": "execute_result"
    }
   ],
   "source": [
    "df['Processor'].unique()"
   ]
  },
  {
   "cell_type": "code",
   "execution_count": 19,
   "metadata": {
    "colab": {
     "base_uri": "https://localhost:8080/",
     "height": 81
    },
    "id": "qnx8dUZB_efV",
    "outputId": "858ee2a1-449f-4192-d4f4-996c9c8a88b8"
   },
   "outputs": [
    {
     "data": {
      "text/html": [
       "<div>\n",
       "<style scoped>\n",
       "    .dataframe tbody tr th:only-of-type {\n",
       "        vertical-align: middle;\n",
       "    }\n",
       "\n",
       "    .dataframe tbody tr th {\n",
       "        vertical-align: top;\n",
       "    }\n",
       "\n",
       "    .dataframe thead th {\n",
       "        text-align: right;\n",
       "    }\n",
       "</style>\n",
       "<table border=\"1\" class=\"dataframe\">\n",
       "  <thead>\n",
       "    <tr style=\"text-align: right;\">\n",
       "      <th></th>\n",
       "      <th>Product</th>\n",
       "      <th>Rating</th>\n",
       "      <th>MRP</th>\n",
       "      <th>Feature</th>\n",
       "      <th>Brand</th>\n",
       "      <th>Processor</th>\n",
       "      <th>OS</th>\n",
       "      <th>RAM</th>\n",
       "      <th>Storage</th>\n",
       "    </tr>\n",
       "  </thead>\n",
       "  <tbody>\n",
       "    <tr>\n",
       "      <th>83</th>\n",
       "      <td>SAMSUNG Galaxy Book Go Snapdragon 7c Gen 2 - (...</td>\n",
       "      <td>4.4</td>\n",
       "      <td>32990</td>\n",
       "      <td>Qualcomm Snapdragon 7c Gen 2 Processor4 GB LPD...</td>\n",
       "      <td>SAMSUNG</td>\n",
       "      <td></td>\n",
       "      <td>Windows 11</td>\n",
       "      <td>4 GB LPDDR4X</td>\n",
       "      <td>128 GB EMMC</td>\n",
       "    </tr>\n",
       "  </tbody>\n",
       "</table>\n",
       "</div>"
      ],
      "text/plain": [
       "                                              Product  Rating    MRP  \\\n",
       "83  SAMSUNG Galaxy Book Go Snapdragon 7c Gen 2 - (...     4.4  32990   \n",
       "\n",
       "                                              Feature    Brand Processor  \\\n",
       "83  Qualcomm Snapdragon 7c Gen 2 Processor4 GB LPD...  SAMSUNG             \n",
       "\n",
       "            OS            RAM      Storage  \n",
       "83  Windows 11  4 GB LPDDR4X   128 GB EMMC  "
      ]
     },
     "execution_count": 19,
     "metadata": {},
     "output_type": "execute_result"
    }
   ],
   "source": [
    "df[df['Processor']=='']"
   ]
  },
  {
   "cell_type": "markdown",
   "metadata": {
    "id": "n2jPsf-aAkrM"
   },
   "source": [
    "**This particular observation has many null values. Hence, it can be removed.**"
   ]
  },
  {
   "cell_type": "code",
   "execution_count": 20,
   "metadata": {
    "colab": {
     "base_uri": "https://localhost:8080/"
    },
    "id": "HFgV0VWEA01h",
    "outputId": "202f89d7-1ccd-4225-f002-e4cc992f4028"
   },
   "outputs": [
    {
     "name": "stdout",
     "output_type": "stream",
     "text": [
      "<class 'pandas.core.frame.DataFrame'>\n",
      "Int64Index: 719 entries, 0 to 719\n",
      "Data columns (total 9 columns):\n",
      " #   Column     Non-Null Count  Dtype  \n",
      "---  ------     --------------  -----  \n",
      " 0   Product    719 non-null    object \n",
      " 1   Rating     580 non-null    float64\n",
      " 2   MRP        719 non-null    int32  \n",
      " 3   Feature    719 non-null    object \n",
      " 4   Brand      719 non-null    object \n",
      " 5   Processor  719 non-null    object \n",
      " 6   OS         719 non-null    object \n",
      " 7   RAM        719 non-null    object \n",
      " 8   Storage    719 non-null    object \n",
      "dtypes: float64(1), int32(1), object(7)\n",
      "memory usage: 53.4+ KB\n"
     ]
    }
   ],
   "source": [
    "df=df[df['Processor']!='']\n",
    "df.info()"
   ]
  },
  {
   "cell_type": "code",
   "execution_count": 21,
   "metadata": {
    "colab": {
     "base_uri": "https://localhost:8080/"
    },
    "id": "vJB7CYR0EXrg",
    "outputId": "070d4e27-afae-4222-a55b-bd5e51a56824"
   },
   "outputs": [
    {
     "data": {
      "text/plain": [
       "array(['Intel Core i3', 'AMD Ryzen 5 Hexa Core', 'Intel Core i5',\n",
       "       'Intel OptaneIntel Core i3', 'AMD Ryzen 7 Quad Core',\n",
       "       'AMD Ryzen 5 Quad Core', 'AMD Ryzen 9 Octa Core',\n",
       "       'AMD Ryzen 7 Octa Core', 'Apple M1', 'Intel Celeron Dual Core',\n",
       "       'AMD Ryzen 3 Dual Core', 'AMD Athlon Dual Core',\n",
       "       'Intel Evo Core i5Intel Core i5', 'AMD Ryzen 3 Quad Core',\n",
       "       'Apple M2', 'Intel Celeron Quad Core', 'Intel Core i7',\n",
       "       'Apple M1 Pro', 'Intel Pentium Silver', 'Apple M1 Max',\n",
       "       'Intel Core i9', 'AMD Ryzen 5 Dual Core',\n",
       "       'Intel Pentium Quad Core', 'AMD Dual Core',\n",
       "       'AMD Ryzen 3 Hexa Core'], dtype=object)"
      ]
     },
     "execution_count": 21,
     "metadata": {},
     "output_type": "execute_result"
    }
   ],
   "source": [
    "df['Processor'].unique()"
   ]
  },
  {
   "cell_type": "code",
   "execution_count": 22,
   "metadata": {
    "colab": {
     "base_uri": "https://localhost:8080/"
    },
    "id": "1gihDq22Eebp",
    "outputId": "1d3a5d9e-0fb9-4676-ad8b-d688de0952d4"
   },
   "outputs": [
    {
     "data": {
      "text/plain": [
       "array(['64 bit Windows 11', '64 bit Windows 10', 'Windows 11', 'MMac OS',\n",
       "       'OS', 'Windows 10', 'MChrome', '32 bit Windows 11',\n",
       "       '5Operating System64 bit Windows 10', '64 bit DOS',\n",
       "       ' Windows 1064 bit Windows 10', '64 bit Chrome'], dtype=object)"
      ]
     },
     "execution_count": 22,
     "metadata": {},
     "output_type": "execute_result"
    }
   ],
   "source": [
    "df['OS'].unique()"
   ]
  },
  {
   "cell_type": "code",
   "execution_count": 23,
   "metadata": {
    "colab": {
     "base_uri": "https://localhost:8080/"
    },
    "id": "1C-hFwBaFXHJ",
    "outputId": "e2434f12-1af2-4cd1-bbff-9e25fff53c41"
   },
   "outputs": [
    {
     "name": "stderr",
     "output_type": "stream",
     "text": [
      "C:\\Users\\RUTHVIK\\AppData\\Local\\Temp\\ipykernel_16168\\1354644143.py:1: SettingWithCopyWarning: \n",
      "A value is trying to be set on a copy of a slice from a DataFrame.\n",
      "Try using .loc[row_indexer,col_indexer] = value instead\n",
      "\n",
      "See the caveats in the documentation: https://pandas.pydata.org/pandas-docs/stable/user_guide/indexing.html#returning-a-view-versus-a-copy\n",
      "  df['OS']=df['OS'].apply(lambda x : x.replace(\"64 bit \",\"\").replace('MMac OS','MAC').replace('OS','MAC').replace('MChrome','Chrome').replace('32 bit ',''))\n"
     ]
    },
    {
     "data": {
      "text/plain": [
       "array(['Windows 11', 'Windows 10', 'MAC', 'Chrome',\n",
       "       '5Operating SystemWindows 10', 'DMAC', ' Windows 10Windows 10'],\n",
       "      dtype=object)"
      ]
     },
     "execution_count": 23,
     "metadata": {},
     "output_type": "execute_result"
    }
   ],
   "source": [
    "df['OS']=df['OS'].apply(lambda x : x.replace(\"64 bit \",\"\").replace('MMac OS','MAC').replace('OS','MAC').replace('MChrome','Chrome').replace('32 bit ',''))\n",
    "df['OS'].unique()"
   ]
  },
  {
   "cell_type": "code",
   "execution_count": 24,
   "metadata": {
    "colab": {
     "base_uri": "https://localhost:8080/"
    },
    "id": "xDAIjRSpHqWW",
    "outputId": "a65ef955-072c-4721-ff54-4fa66bc06af0"
   },
   "outputs": [
    {
     "name": "stderr",
     "output_type": "stream",
     "text": [
      "C:\\Users\\RUTHVIK\\AppData\\Local\\Temp\\ipykernel_16168\\3203164883.py:1: SettingWithCopyWarning: \n",
      "A value is trying to be set on a copy of a slice from a DataFrame.\n",
      "Try using .loc[row_indexer,col_indexer] = value instead\n",
      "\n",
      "See the caveats in the documentation: https://pandas.pydata.org/pandas-docs/stable/user_guide/indexing.html#returning-a-view-versus-a-copy\n",
      "  df['OS']=df['OS'].apply(lambda x : x.replace('5Operating System','').replace('DMAC','DOS').replace(' Windows 10',''))\n"
     ]
    },
    {
     "data": {
      "text/plain": [
       "array(['Windows 11', 'Windows 10', 'MAC', 'Chrome', 'DOS'], dtype=object)"
      ]
     },
     "execution_count": 24,
     "metadata": {},
     "output_type": "execute_result"
    }
   ],
   "source": [
    "df['OS']=df['OS'].apply(lambda x : x.replace('5Operating System','').replace('DMAC','DOS').replace(' Windows 10',''))\n",
    "df['OS'].unique()"
   ]
  },
  {
   "cell_type": "code",
   "execution_count": 25,
   "metadata": {
    "colab": {
     "base_uri": "https://localhost:8080/"
    },
    "id": "NuL-fBsoIV-I",
    "outputId": "1ecd81c5-0cfc-48ff-caee-11ce5f24424c"
   },
   "outputs": [
    {
     "data": {
      "text/plain": [
       "array(['8 GB DDR4 ', '16 GB DDR4 ', '16 GB DDR5 ', '4 GB LPDDR4 ',\n",
       "       '4 GB DDR4 ', '8 GB Unified Memory ', '8 GB LPDDR4X ',\n",
       "       '16 GB Unified Memory ', '16 GB LPDDR4X ', '16 GB LPDDR5 ',\n",
       "       '32 GB Unified Memory ', '4 GB LPDDR4X ', '16 GB LPDDR4 ',\n",
       "       '32 GB DDR5 ',\n",
       "       '128 GB SSD for Reduced Boot Up Time and in Game LoadingUpgradable SSD Upto 512 GB and 8 GB DDR4 ',\n",
       "       '8 GB DDR5 ', '32 GB DDR4 ', '32 GB LPDDR4X ', '16 GB LPDDR3 '],\n",
       "      dtype=object)"
      ]
     },
     "execution_count": 25,
     "metadata": {},
     "output_type": "execute_result"
    }
   ],
   "source": [
    "df['RAM'].unique()"
   ]
  },
  {
   "cell_type": "code",
   "execution_count": 26,
   "metadata": {
    "colab": {
     "base_uri": "https://localhost:8080/"
    },
    "id": "HzCPj0C5UnDO",
    "outputId": "b332bee3-3deb-4cb1-b23f-9cfb634c55b6"
   },
   "outputs": [
    {
     "name": "stderr",
     "output_type": "stream",
     "text": [
      "C:\\Users\\RUTHVIK\\AppData\\Local\\Temp\\ipykernel_16168\\517777125.py:1: SettingWithCopyWarning: \n",
      "A value is trying to be set on a copy of a slice from a DataFrame.\n",
      "Try using .loc[row_indexer,col_indexer] = value instead\n",
      "\n",
      "See the caveats in the documentation: https://pandas.pydata.org/pandas-docs/stable/user_guide/indexing.html#returning-a-view-versus-a-copy\n",
      "  df['RAM']=df['RAM'].apply(lambda x: x.replace(\"128 GB SSD for Reduced Boot Up Time and in Game LoadingUpgradable SSD Upto 512 GB and 8 GB DDR4 \",\"8 GB DDR4\"))\n",
      "C:\\Users\\RUTHVIK\\AppData\\Local\\Temp\\ipykernel_16168\\517777125.py:2: SettingWithCopyWarning: \n",
      "A value is trying to be set on a copy of a slice from a DataFrame.\n",
      "Try using .loc[row_indexer,col_indexer] = value instead\n",
      "\n",
      "See the caveats in the documentation: https://pandas.pydata.org/pandas-docs/stable/user_guide/indexing.html#returning-a-view-versus-a-copy\n",
      "  df['RAM']=df['RAM'].apply(lambda x: x.replace(\"Unified Memory\",\"Unified\"))\n"
     ]
    },
    {
     "data": {
      "text/plain": [
       "array(['8 GB DDR4 ', '16 GB DDR4 ', '16 GB DDR5 ', '4 GB LPDDR4 ',\n",
       "       '4 GB DDR4 ', '8 GB Unified ', '8 GB LPDDR4X ', '16 GB Unified ',\n",
       "       '16 GB LPDDR4X ', '16 GB LPDDR5 ', '32 GB Unified ',\n",
       "       '4 GB LPDDR4X ', '16 GB LPDDR4 ', '32 GB DDR5 ', '8 GB DDR4',\n",
       "       '8 GB DDR5 ', '32 GB DDR4 ', '32 GB LPDDR4X ', '16 GB LPDDR3 '],\n",
       "      dtype=object)"
      ]
     },
     "execution_count": 26,
     "metadata": {},
     "output_type": "execute_result"
    }
   ],
   "source": [
    "df['RAM']=df['RAM'].apply(lambda x: x.replace(\"128 GB SSD for Reduced Boot Up Time and in Game LoadingUpgradable SSD Upto 512 GB and 8 GB DDR4 \",\"8 GB DDR4\"))\n",
    "df['RAM']=df['RAM'].apply(lambda x: x.replace(\"Unified Memory\",\"Unified\"))\n",
    "df['RAM'].unique()"
   ]
  },
  {
   "cell_type": "code",
   "execution_count": 27,
   "metadata": {
    "colab": {
     "base_uri": "https://localhost:8080/",
     "height": 961
    },
    "id": "7v6_vRefXYHE",
    "outputId": "cef07ab6-bef2-4f9f-fcf1-b65ef2ef7191"
   },
   "outputs": [
    {
     "name": "stderr",
     "output_type": "stream",
     "text": [
      "C:\\Users\\RUTHVIK\\AppData\\Local\\Temp\\ipykernel_16168\\3285123229.py:1: SettingWithCopyWarning: \n",
      "A value is trying to be set on a copy of a slice from a DataFrame.\n",
      "Try using .loc[row_indexer,col_indexer] = value instead\n",
      "\n",
      "See the caveats in the documentation: https://pandas.pydata.org/pandas-docs/stable/user_guide/indexing.html#returning-a-view-versus-a-copy\n",
      "  df[['RAM Size','GB', 'RAM Type','x']]=df['RAM'].str.split(' ', expand=True)\n",
      "C:\\Users\\RUTHVIK\\AppData\\Local\\Temp\\ipykernel_16168\\3285123229.py:1: SettingWithCopyWarning: \n",
      "A value is trying to be set on a copy of a slice from a DataFrame.\n",
      "Try using .loc[row_indexer,col_indexer] = value instead\n",
      "\n",
      "See the caveats in the documentation: https://pandas.pydata.org/pandas-docs/stable/user_guide/indexing.html#returning-a-view-versus-a-copy\n",
      "  df[['RAM Size','GB', 'RAM Type','x']]=df['RAM'].str.split(' ', expand=True)\n",
      "C:\\Users\\RUTHVIK\\AppData\\Local\\Temp\\ipykernel_16168\\3285123229.py:1: SettingWithCopyWarning: \n",
      "A value is trying to be set on a copy of a slice from a DataFrame.\n",
      "Try using .loc[row_indexer,col_indexer] = value instead\n",
      "\n",
      "See the caveats in the documentation: https://pandas.pydata.org/pandas-docs/stable/user_guide/indexing.html#returning-a-view-versus-a-copy\n",
      "  df[['RAM Size','GB', 'RAM Type','x']]=df['RAM'].str.split(' ', expand=True)\n",
      "C:\\Users\\RUTHVIK\\AppData\\Local\\Temp\\ipykernel_16168\\3285123229.py:1: SettingWithCopyWarning: \n",
      "A value is trying to be set on a copy of a slice from a DataFrame.\n",
      "Try using .loc[row_indexer,col_indexer] = value instead\n",
      "\n",
      "See the caveats in the documentation: https://pandas.pydata.org/pandas-docs/stable/user_guide/indexing.html#returning-a-view-versus-a-copy\n",
      "  df[['RAM Size','GB', 'RAM Type','x']]=df['RAM'].str.split(' ', expand=True)\n",
      "C:\\Users\\RUTHVIK\\AppData\\Local\\Temp\\ipykernel_16168\\3285123229.py:2: SettingWithCopyWarning: \n",
      "A value is trying to be set on a copy of a slice from a DataFrame\n",
      "\n",
      "See the caveats in the documentation: https://pandas.pydata.org/pandas-docs/stable/user_guide/indexing.html#returning-a-view-versus-a-copy\n",
      "  df.drop(['GB','RAM','x'], axis=1, inplace=True)\n",
      "C:\\Users\\RUTHVIK\\AppData\\Local\\Temp\\ipykernel_16168\\3285123229.py:3: SettingWithCopyWarning: \n",
      "A value is trying to be set on a copy of a slice from a DataFrame.\n",
      "Try using .loc[row_indexer,col_indexer] = value instead\n",
      "\n",
      "See the caveats in the documentation: https://pandas.pydata.org/pandas-docs/stable/user_guide/indexing.html#returning-a-view-versus-a-copy\n",
      "  df['RAM Size']=df['RAM Size']+\"GB\"\n"
     ]
    },
    {
     "data": {
      "text/html": [
       "<div>\n",
       "<style scoped>\n",
       "    .dataframe tbody tr th:only-of-type {\n",
       "        vertical-align: middle;\n",
       "    }\n",
       "\n",
       "    .dataframe tbody tr th {\n",
       "        vertical-align: top;\n",
       "    }\n",
       "\n",
       "    .dataframe thead th {\n",
       "        text-align: right;\n",
       "    }\n",
       "</style>\n",
       "<table border=\"1\" class=\"dataframe\">\n",
       "  <thead>\n",
       "    <tr style=\"text-align: right;\">\n",
       "      <th></th>\n",
       "      <th>Product</th>\n",
       "      <th>Rating</th>\n",
       "      <th>MRP</th>\n",
       "      <th>Feature</th>\n",
       "      <th>Brand</th>\n",
       "      <th>Processor</th>\n",
       "      <th>OS</th>\n",
       "      <th>Storage</th>\n",
       "      <th>RAM Size</th>\n",
       "      <th>RAM Type</th>\n",
       "    </tr>\n",
       "  </thead>\n",
       "  <tbody>\n",
       "    <tr>\n",
       "      <th>0</th>\n",
       "      <td>Lenovo IdeaPad 3 Core i3 11th Gen - (8 GB/256 ...</td>\n",
       "      <td>4.2</td>\n",
       "      <td>36990</td>\n",
       "      <td>Intel Core i3 Processor (11th Gen)8 GB DDR4 RA...</td>\n",
       "      <td>Lenovo</td>\n",
       "      <td>Intel Core i3</td>\n",
       "      <td>Windows 11</td>\n",
       "      <td>256 GB SSD</td>\n",
       "      <td>8GB</td>\n",
       "      <td>DDR4</td>\n",
       "    </tr>\n",
       "    <tr>\n",
       "      <th>1</th>\n",
       "      <td>Lenovo IdeaPad 3 Core i3 11th Gen - (8 GB/512 ...</td>\n",
       "      <td>4.2</td>\n",
       "      <td>39990</td>\n",
       "      <td>Intel Core i3 Processor (11th Gen)8 GB DDR4 RA...</td>\n",
       "      <td>Lenovo</td>\n",
       "      <td>Intel Core i3</td>\n",
       "      <td>Windows 11</td>\n",
       "      <td>512 GB SSD</td>\n",
       "      <td>8GB</td>\n",
       "      <td>DDR4</td>\n",
       "    </tr>\n",
       "    <tr>\n",
       "      <th>2</th>\n",
       "      <td>ASUS VivoBook 15 (2022) Core i3 10th Gen - (8 ...</td>\n",
       "      <td>4.3</td>\n",
       "      <td>32990</td>\n",
       "      <td>Intel Core i3 Processor (10th Gen)8 GB DDR4 RA...</td>\n",
       "      <td>ASUS</td>\n",
       "      <td>Intel Core i3</td>\n",
       "      <td>Windows 11</td>\n",
       "      <td>512 GB SSD</td>\n",
       "      <td>8GB</td>\n",
       "      <td>DDR4</td>\n",
       "    </tr>\n",
       "    <tr>\n",
       "      <th>3</th>\n",
       "      <td>HP Pavilion Ryzen 5 Hexa Core AMD R5-5600H - (...</td>\n",
       "      <td>4.4</td>\n",
       "      <td>49990</td>\n",
       "      <td>AMD Ryzen 5 Hexa Core Processor8 GB DDR4 RAM64...</td>\n",
       "      <td>HP</td>\n",
       "      <td>AMD Ryzen 5 Hexa Core</td>\n",
       "      <td>Windows 10</td>\n",
       "      <td>512 GB SSD</td>\n",
       "      <td>8GB</td>\n",
       "      <td>DDR4</td>\n",
       "    </tr>\n",
       "    <tr>\n",
       "      <th>4</th>\n",
       "      <td>ASUS TUF Gaming F15 Core i5 10th Gen - (8 GB/5...</td>\n",
       "      <td>4.4</td>\n",
       "      <td>49990</td>\n",
       "      <td>Intel Core i5 Processor (10th Gen)8 GB DDR4 RA...</td>\n",
       "      <td>ASUS</td>\n",
       "      <td>Intel Core i5</td>\n",
       "      <td>Windows 11</td>\n",
       "      <td>512 GB SSD</td>\n",
       "      <td>8GB</td>\n",
       "      <td>DDR4</td>\n",
       "    </tr>\n",
       "  </tbody>\n",
       "</table>\n",
       "</div>"
      ],
      "text/plain": [
       "                                             Product  Rating    MRP  \\\n",
       "0  Lenovo IdeaPad 3 Core i3 11th Gen - (8 GB/256 ...     4.2  36990   \n",
       "1  Lenovo IdeaPad 3 Core i3 11th Gen - (8 GB/512 ...     4.2  39990   \n",
       "2  ASUS VivoBook 15 (2022) Core i3 10th Gen - (8 ...     4.3  32990   \n",
       "3  HP Pavilion Ryzen 5 Hexa Core AMD R5-5600H - (...     4.4  49990   \n",
       "4  ASUS TUF Gaming F15 Core i5 10th Gen - (8 GB/5...     4.4  49990   \n",
       "\n",
       "                                             Feature   Brand  \\\n",
       "0  Intel Core i3 Processor (11th Gen)8 GB DDR4 RA...  Lenovo   \n",
       "1  Intel Core i3 Processor (11th Gen)8 GB DDR4 RA...  Lenovo   \n",
       "2  Intel Core i3 Processor (10th Gen)8 GB DDR4 RA...    ASUS   \n",
       "3  AMD Ryzen 5 Hexa Core Processor8 GB DDR4 RAM64...      HP   \n",
       "4  Intel Core i5 Processor (10th Gen)8 GB DDR4 RA...    ASUS   \n",
       "\n",
       "               Processor          OS     Storage RAM Size RAM Type  \n",
       "0          Intel Core i3  Windows 11  256 GB SSD      8GB     DDR4  \n",
       "1          Intel Core i3  Windows 11  512 GB SSD      8GB     DDR4  \n",
       "2          Intel Core i3  Windows 11  512 GB SSD      8GB     DDR4  \n",
       "3  AMD Ryzen 5 Hexa Core  Windows 10  512 GB SSD      8GB     DDR4  \n",
       "4          Intel Core i5  Windows 11  512 GB SSD      8GB     DDR4  "
      ]
     },
     "execution_count": 27,
     "metadata": {},
     "output_type": "execute_result"
    }
   ],
   "source": [
    "df[['RAM Size','GB', 'RAM Type','x']]=df['RAM'].str.split(' ', expand=True)\n",
    "df.drop(['GB','RAM','x'], axis=1, inplace=True)\n",
    "df['RAM Size']=df['RAM Size']+\"GB\"\n",
    "df.head()"
   ]
  },
  {
   "cell_type": "code",
   "execution_count": 28,
   "metadata": {
    "colab": {
     "base_uri": "https://localhost:8080/"
    },
    "id": "mZJnAwGvYjQx",
    "outputId": "7b280bd1-c2a1-49fe-bd87-14e13b04ca7a"
   },
   "outputs": [
    {
     "data": {
      "text/plain": [
       "array(['8GB', '16GB', '4GB', '32GB'], dtype=object)"
      ]
     },
     "execution_count": 28,
     "metadata": {},
     "output_type": "execute_result"
    }
   ],
   "source": [
    "df['RAM Size'].unique()"
   ]
  },
  {
   "cell_type": "code",
   "execution_count": 29,
   "metadata": {
    "colab": {
     "base_uri": "https://localhost:8080/"
    },
    "id": "Qsna9Yj4YsxN",
    "outputId": "6a44528e-fbc6-4f78-8bf2-56e648312e58"
   },
   "outputs": [
    {
     "data": {
      "text/plain": [
       "array(['DDR4', 'DDR5', 'LPDDR4', 'Unified', 'LPDDR4X', 'LPDDR5', 'LPDDR3'],\n",
       "      dtype=object)"
      ]
     },
     "execution_count": 29,
     "metadata": {},
     "output_type": "execute_result"
    }
   ],
   "source": [
    "df['RAM Type'].unique()"
   ]
  },
  {
   "cell_type": "code",
   "execution_count": 30,
   "metadata": {
    "colab": {
     "base_uri": "https://localhost:8080/"
    },
    "id": "Ah8Zx9AYYzIB",
    "outputId": "182176fa-8648-49bf-ab04-2e6f83813ba2"
   },
   "outputs": [
    {
     "data": {
      "text/plain": [
       "array(['256 GB SSD', '512 GB SSD', '1 TB HDD256 GB SSD', '1 TB SSD',\n",
       "       '256 GB HDD256 GB SSD', '64 GB EMMC', '1 TB HDD', '128 GB SSD',\n",
       "       '32 GB EMMC', '1 TB HDD512 GB SSD', '1 TB HDD128 GB SSD',\n",
       "       '2 TB SSD', '128 GB EMMC'], dtype=object)"
      ]
     },
     "execution_count": 30,
     "metadata": {},
     "output_type": "execute_result"
    }
   ],
   "source": [
    "df['Storage'].unique()"
   ]
  },
  {
   "cell_type": "code",
   "execution_count": 31,
   "metadata": {
    "colab": {
     "base_uri": "https://localhost:8080/"
    },
    "id": "2XT3Sf8yY-1M",
    "outputId": "ce949667-9c9e-4645-aaa1-a0a27b2cd42d"
   },
   "outputs": [
    {
     "name": "stderr",
     "output_type": "stream",
     "text": [
      "C:\\Users\\RUTHVIK\\AppData\\Local\\Temp\\ipykernel_16168\\3154970843.py:1: SettingWithCopyWarning: \n",
      "A value is trying to be set on a copy of a slice from a DataFrame\n",
      "\n",
      "See the caveats in the documentation: https://pandas.pydata.org/pandas-docs/stable/user_guide/indexing.html#returning-a-view-versus-a-copy\n",
      "  df['Storage'].replace({'256 GB SSD':'256GB SSD'}, inplace=True)\n",
      "C:\\Users\\RUTHVIK\\AppData\\Local\\Temp\\ipykernel_16168\\3154970843.py:2: SettingWithCopyWarning: \n",
      "A value is trying to be set on a copy of a slice from a DataFrame\n",
      "\n",
      "See the caveats in the documentation: https://pandas.pydata.org/pandas-docs/stable/user_guide/indexing.html#returning-a-view-versus-a-copy\n",
      "  df['Storage'].replace({'512 GB SSD':'512GB SSD'}, inplace=True)\n",
      "C:\\Users\\RUTHVIK\\AppData\\Local\\Temp\\ipykernel_16168\\3154970843.py:3: SettingWithCopyWarning: \n",
      "A value is trying to be set on a copy of a slice from a DataFrame\n",
      "\n",
      "See the caveats in the documentation: https://pandas.pydata.org/pandas-docs/stable/user_guide/indexing.html#returning-a-view-versus-a-copy\n",
      "  df['Storage'].replace({'1 TB SSD':'1TB SSD'}, inplace=True)\n",
      "C:\\Users\\RUTHVIK\\AppData\\Local\\Temp\\ipykernel_16168\\3154970843.py:4: SettingWithCopyWarning: \n",
      "A value is trying to be set on a copy of a slice from a DataFrame\n",
      "\n",
      "See the caveats in the documentation: https://pandas.pydata.org/pandas-docs/stable/user_guide/indexing.html#returning-a-view-versus-a-copy\n",
      "  df['Storage'].replace({'1 TB HDD':'1TB HDD'}, inplace=True)\n",
      "C:\\Users\\RUTHVIK\\AppData\\Local\\Temp\\ipykernel_16168\\3154970843.py:5: SettingWithCopyWarning: \n",
      "A value is trying to be set on a copy of a slice from a DataFrame\n",
      "\n",
      "See the caveats in the documentation: https://pandas.pydata.org/pandas-docs/stable/user_guide/indexing.html#returning-a-view-versus-a-copy\n",
      "  df['Storage'].replace({'128 GB SSD':'128GB SSD'}, inplace=True)\n",
      "C:\\Users\\RUTHVIK\\AppData\\Local\\Temp\\ipykernel_16168\\3154970843.py:6: SettingWithCopyWarning: \n",
      "A value is trying to be set on a copy of a slice from a DataFrame\n",
      "\n",
      "See the caveats in the documentation: https://pandas.pydata.org/pandas-docs/stable/user_guide/indexing.html#returning-a-view-versus-a-copy\n",
      "  df['Storage'].replace({'2 TB SSD':'2TB SSD'}, inplace=True)\n",
      "C:\\Users\\RUTHVIK\\AppData\\Local\\Temp\\ipykernel_16168\\3154970843.py:7: SettingWithCopyWarning: \n",
      "A value is trying to be set on a copy of a slice from a DataFrame\n",
      "\n",
      "See the caveats in the documentation: https://pandas.pydata.org/pandas-docs/stable/user_guide/indexing.html#returning-a-view-versus-a-copy\n",
      "  df['Storage'].replace({'1 TB HDD256 GB SSD':'1TB HDD'}, inplace=True)\n",
      "C:\\Users\\RUTHVIK\\AppData\\Local\\Temp\\ipykernel_16168\\3154970843.py:8: SettingWithCopyWarning: \n",
      "A value is trying to be set on a copy of a slice from a DataFrame\n",
      "\n",
      "See the caveats in the documentation: https://pandas.pydata.org/pandas-docs/stable/user_guide/indexing.html#returning-a-view-versus-a-copy\n",
      "  df['Storage'].replace({'256 GB HDD256 GB SSD':'256GB HDD'}, inplace=True)\n",
      "C:\\Users\\RUTHVIK\\AppData\\Local\\Temp\\ipykernel_16168\\3154970843.py:9: SettingWithCopyWarning: \n",
      "A value is trying to be set on a copy of a slice from a DataFrame\n",
      "\n",
      "See the caveats in the documentation: https://pandas.pydata.org/pandas-docs/stable/user_guide/indexing.html#returning-a-view-versus-a-copy\n",
      "  df['Storage'].replace({'1 TB HDD512 GB SSD':'1TB HDD'}, inplace=True)\n",
      "C:\\Users\\RUTHVIK\\AppData\\Local\\Temp\\ipykernel_16168\\3154970843.py:10: SettingWithCopyWarning: \n",
      "A value is trying to be set on a copy of a slice from a DataFrame\n",
      "\n",
      "See the caveats in the documentation: https://pandas.pydata.org/pandas-docs/stable/user_guide/indexing.html#returning-a-view-versus-a-copy\n",
      "  df['Storage'].replace({'128 GB SSD1 TB HDD128 GB SSD':'1TB HDD'}, inplace=True)\n",
      "C:\\Users\\RUTHVIK\\AppData\\Local\\Temp\\ipykernel_16168\\3154970843.py:11: SettingWithCopyWarning: \n",
      "A value is trying to be set on a copy of a slice from a DataFrame\n",
      "\n",
      "See the caveats in the documentation: https://pandas.pydata.org/pandas-docs/stable/user_guide/indexing.html#returning-a-view-versus-a-copy\n",
      "  df['Storage'].replace({'64 GB EMMC':'64GB EMMC'}, inplace=True)\n",
      "C:\\Users\\RUTHVIK\\AppData\\Local\\Temp\\ipykernel_16168\\3154970843.py:12: SettingWithCopyWarning: \n",
      "A value is trying to be set on a copy of a slice from a DataFrame\n",
      "\n",
      "See the caveats in the documentation: https://pandas.pydata.org/pandas-docs/stable/user_guide/indexing.html#returning-a-view-versus-a-copy\n",
      "  df['Storage'].replace({'32 GB EMMC':'32GB EMMC'}, inplace=True)\n",
      "C:\\Users\\RUTHVIK\\AppData\\Local\\Temp\\ipykernel_16168\\3154970843.py:13: SettingWithCopyWarning: \n",
      "A value is trying to be set on a copy of a slice from a DataFrame\n",
      "\n",
      "See the caveats in the documentation: https://pandas.pydata.org/pandas-docs/stable/user_guide/indexing.html#returning-a-view-versus-a-copy\n",
      "  df['Storage'].replace({'128 GB EMMC':'128GB EMMC'}, inplace=True)\n",
      "C:\\Users\\RUTHVIK\\AppData\\Local\\Temp\\ipykernel_16168\\3154970843.py:14: SettingWithCopyWarning: \n",
      "A value is trying to be set on a copy of a slice from a DataFrame\n",
      "\n",
      "See the caveats in the documentation: https://pandas.pydata.org/pandas-docs/stable/user_guide/indexing.html#returning-a-view-versus-a-copy\n",
      "  df['Storage'].replace({'1 TB HDD128 GB SSD':'1TB HDD'}, inplace=True)\n"
     ]
    },
    {
     "data": {
      "text/plain": [
       "array(['256GB SSD', '512GB SSD', '1TB HDD', '1TB SSD', '256GB HDD',\n",
       "       '64GB EMMC', '128GB SSD', '32GB EMMC', '2TB SSD', '128GB EMMC'],\n",
       "      dtype=object)"
      ]
     },
     "execution_count": 31,
     "metadata": {},
     "output_type": "execute_result"
    }
   ],
   "source": [
    "df['Storage'].replace({'256 GB SSD':'256GB SSD'}, inplace=True)\n",
    "df['Storage'].replace({'512 GB SSD':'512GB SSD'}, inplace=True)\n",
    "df['Storage'].replace({'1 TB SSD':'1TB SSD'}, inplace=True)\n",
    "df['Storage'].replace({'1 TB HDD':'1TB HDD'}, inplace=True)\n",
    "df['Storage'].replace({'128 GB SSD':'128GB SSD'}, inplace=True)\n",
    "df['Storage'].replace({'2 TB SSD':'2TB SSD'}, inplace=True)\n",
    "df['Storage'].replace({'1 TB HDD256 GB SSD':'1TB HDD'}, inplace=True)\n",
    "df['Storage'].replace({'256 GB HDD256 GB SSD':'256GB HDD'}, inplace=True)\n",
    "df['Storage'].replace({'1 TB HDD512 GB SSD':'1TB HDD'}, inplace=True)\n",
    "df['Storage'].replace({'128 GB SSD1 TB HDD128 GB SSD':'1TB HDD'}, inplace=True)\n",
    "df['Storage'].replace({'64 GB EMMC':'64GB EMMC'}, inplace=True)\n",
    "df['Storage'].replace({'32 GB EMMC':'32GB EMMC'}, inplace=True)\n",
    "df['Storage'].replace({'128 GB EMMC':'128GB EMMC'}, inplace=True)\n",
    "df['Storage'].replace({'1 TB HDD128 GB SSD':'1TB HDD'}, inplace=True)\n",
    "df['Storage'].unique()"
   ]
  },
  {
   "cell_type": "code",
   "execution_count": 32,
   "metadata": {
    "colab": {
     "base_uri": "https://localhost:8080/",
     "height": 649
    },
    "id": "65tkvwl-d5RD",
    "outputId": "3969f44f-5ad3-4581-956b-b4d376a25926"
   },
   "outputs": [
    {
     "name": "stderr",
     "output_type": "stream",
     "text": [
      "C:\\Users\\RUTHVIK\\AppData\\Local\\Temp\\ipykernel_16168\\2076833193.py:1: SettingWithCopyWarning: \n",
      "A value is trying to be set on a copy of a slice from a DataFrame.\n",
      "Try using .loc[row_indexer,col_indexer] = value instead\n",
      "\n",
      "See the caveats in the documentation: https://pandas.pydata.org/pandas-docs/stable/user_guide/indexing.html#returning-a-view-versus-a-copy\n",
      "  df[['Disc Size','Disc Type']]=df['Storage'].str.split(' ', expand=True)\n",
      "C:\\Users\\RUTHVIK\\AppData\\Local\\Temp\\ipykernel_16168\\2076833193.py:1: SettingWithCopyWarning: \n",
      "A value is trying to be set on a copy of a slice from a DataFrame.\n",
      "Try using .loc[row_indexer,col_indexer] = value instead\n",
      "\n",
      "See the caveats in the documentation: https://pandas.pydata.org/pandas-docs/stable/user_guide/indexing.html#returning-a-view-versus-a-copy\n",
      "  df[['Disc Size','Disc Type']]=df['Storage'].str.split(' ', expand=True)\n",
      "C:\\Users\\RUTHVIK\\AppData\\Local\\Temp\\ipykernel_16168\\2076833193.py:2: SettingWithCopyWarning: \n",
      "A value is trying to be set on a copy of a slice from a DataFrame\n",
      "\n",
      "See the caveats in the documentation: https://pandas.pydata.org/pandas-docs/stable/user_guide/indexing.html#returning-a-view-versus-a-copy\n",
      "  df.drop(['Storage'], axis=1, inplace=True)\n"
     ]
    },
    {
     "data": {
      "text/html": [
       "<div>\n",
       "<style scoped>\n",
       "    .dataframe tbody tr th:only-of-type {\n",
       "        vertical-align: middle;\n",
       "    }\n",
       "\n",
       "    .dataframe tbody tr th {\n",
       "        vertical-align: top;\n",
       "    }\n",
       "\n",
       "    .dataframe thead th {\n",
       "        text-align: right;\n",
       "    }\n",
       "</style>\n",
       "<table border=\"1\" class=\"dataframe\">\n",
       "  <thead>\n",
       "    <tr style=\"text-align: right;\">\n",
       "      <th></th>\n",
       "      <th>Product</th>\n",
       "      <th>Rating</th>\n",
       "      <th>MRP</th>\n",
       "      <th>Feature</th>\n",
       "      <th>Brand</th>\n",
       "      <th>Processor</th>\n",
       "      <th>OS</th>\n",
       "      <th>RAM Size</th>\n",
       "      <th>RAM Type</th>\n",
       "      <th>Disc Size</th>\n",
       "      <th>Disc Type</th>\n",
       "    </tr>\n",
       "  </thead>\n",
       "  <tbody>\n",
       "    <tr>\n",
       "      <th>0</th>\n",
       "      <td>Lenovo IdeaPad 3 Core i3 11th Gen - (8 GB/256 ...</td>\n",
       "      <td>4.2</td>\n",
       "      <td>36990</td>\n",
       "      <td>Intel Core i3 Processor (11th Gen)8 GB DDR4 RA...</td>\n",
       "      <td>Lenovo</td>\n",
       "      <td>Intel Core i3</td>\n",
       "      <td>Windows 11</td>\n",
       "      <td>8GB</td>\n",
       "      <td>DDR4</td>\n",
       "      <td>256GB</td>\n",
       "      <td>SSD</td>\n",
       "    </tr>\n",
       "    <tr>\n",
       "      <th>1</th>\n",
       "      <td>Lenovo IdeaPad 3 Core i3 11th Gen - (8 GB/512 ...</td>\n",
       "      <td>4.2</td>\n",
       "      <td>39990</td>\n",
       "      <td>Intel Core i3 Processor (11th Gen)8 GB DDR4 RA...</td>\n",
       "      <td>Lenovo</td>\n",
       "      <td>Intel Core i3</td>\n",
       "      <td>Windows 11</td>\n",
       "      <td>8GB</td>\n",
       "      <td>DDR4</td>\n",
       "      <td>512GB</td>\n",
       "      <td>SSD</td>\n",
       "    </tr>\n",
       "    <tr>\n",
       "      <th>2</th>\n",
       "      <td>ASUS VivoBook 15 (2022) Core i3 10th Gen - (8 ...</td>\n",
       "      <td>4.3</td>\n",
       "      <td>32990</td>\n",
       "      <td>Intel Core i3 Processor (10th Gen)8 GB DDR4 RA...</td>\n",
       "      <td>ASUS</td>\n",
       "      <td>Intel Core i3</td>\n",
       "      <td>Windows 11</td>\n",
       "      <td>8GB</td>\n",
       "      <td>DDR4</td>\n",
       "      <td>512GB</td>\n",
       "      <td>SSD</td>\n",
       "    </tr>\n",
       "    <tr>\n",
       "      <th>3</th>\n",
       "      <td>HP Pavilion Ryzen 5 Hexa Core AMD R5-5600H - (...</td>\n",
       "      <td>4.4</td>\n",
       "      <td>49990</td>\n",
       "      <td>AMD Ryzen 5 Hexa Core Processor8 GB DDR4 RAM64...</td>\n",
       "      <td>HP</td>\n",
       "      <td>AMD Ryzen 5 Hexa Core</td>\n",
       "      <td>Windows 10</td>\n",
       "      <td>8GB</td>\n",
       "      <td>DDR4</td>\n",
       "      <td>512GB</td>\n",
       "      <td>SSD</td>\n",
       "    </tr>\n",
       "    <tr>\n",
       "      <th>4</th>\n",
       "      <td>ASUS TUF Gaming F15 Core i5 10th Gen - (8 GB/5...</td>\n",
       "      <td>4.4</td>\n",
       "      <td>49990</td>\n",
       "      <td>Intel Core i5 Processor (10th Gen)8 GB DDR4 RA...</td>\n",
       "      <td>ASUS</td>\n",
       "      <td>Intel Core i5</td>\n",
       "      <td>Windows 11</td>\n",
       "      <td>8GB</td>\n",
       "      <td>DDR4</td>\n",
       "      <td>512GB</td>\n",
       "      <td>SSD</td>\n",
       "    </tr>\n",
       "  </tbody>\n",
       "</table>\n",
       "</div>"
      ],
      "text/plain": [
       "                                             Product  Rating    MRP  \\\n",
       "0  Lenovo IdeaPad 3 Core i3 11th Gen - (8 GB/256 ...     4.2  36990   \n",
       "1  Lenovo IdeaPad 3 Core i3 11th Gen - (8 GB/512 ...     4.2  39990   \n",
       "2  ASUS VivoBook 15 (2022) Core i3 10th Gen - (8 ...     4.3  32990   \n",
       "3  HP Pavilion Ryzen 5 Hexa Core AMD R5-5600H - (...     4.4  49990   \n",
       "4  ASUS TUF Gaming F15 Core i5 10th Gen - (8 GB/5...     4.4  49990   \n",
       "\n",
       "                                             Feature   Brand  \\\n",
       "0  Intel Core i3 Processor (11th Gen)8 GB DDR4 RA...  Lenovo   \n",
       "1  Intel Core i3 Processor (11th Gen)8 GB DDR4 RA...  Lenovo   \n",
       "2  Intel Core i3 Processor (10th Gen)8 GB DDR4 RA...    ASUS   \n",
       "3  AMD Ryzen 5 Hexa Core Processor8 GB DDR4 RAM64...      HP   \n",
       "4  Intel Core i5 Processor (10th Gen)8 GB DDR4 RA...    ASUS   \n",
       "\n",
       "               Processor          OS RAM Size RAM Type Disc Size Disc Type  \n",
       "0          Intel Core i3  Windows 11      8GB     DDR4     256GB       SSD  \n",
       "1          Intel Core i3  Windows 11      8GB     DDR4     512GB       SSD  \n",
       "2          Intel Core i3  Windows 11      8GB     DDR4     512GB       SSD  \n",
       "3  AMD Ryzen 5 Hexa Core  Windows 10      8GB     DDR4     512GB       SSD  \n",
       "4          Intel Core i5  Windows 11      8GB     DDR4     512GB       SSD  "
      ]
     },
     "execution_count": 32,
     "metadata": {},
     "output_type": "execute_result"
    }
   ],
   "source": [
    "df[['Disc Size','Disc Type']]=df['Storage'].str.split(' ', expand=True)\n",
    "df.drop(['Storage'], axis=1, inplace=True)\n",
    "df.head()"
   ]
  },
  {
   "cell_type": "code",
   "execution_count": 33,
   "metadata": {
    "colab": {
     "base_uri": "https://localhost:8080/"
    },
    "id": "w2IusV2Be_-5",
    "outputId": "9a09497f-9506-41e6-85be-6a01f7c9a508"
   },
   "outputs": [
    {
     "name": "stdout",
     "output_type": "stream",
     "text": [
      "<class 'pandas.core.frame.DataFrame'>\n",
      "Int64Index: 719 entries, 0 to 719\n",
      "Data columns (total 11 columns):\n",
      " #   Column     Non-Null Count  Dtype  \n",
      "---  ------     --------------  -----  \n",
      " 0   Product    719 non-null    object \n",
      " 1   Rating     580 non-null    float64\n",
      " 2   MRP        719 non-null    int32  \n",
      " 3   Feature    719 non-null    object \n",
      " 4   Brand      719 non-null    object \n",
      " 5   Processor  719 non-null    object \n",
      " 6   OS         719 non-null    object \n",
      " 7   RAM Size   719 non-null    object \n",
      " 8   RAM Type   719 non-null    object \n",
      " 9   Disc Size  719 non-null    object \n",
      " 10  Disc Type  719 non-null    object \n",
      "dtypes: float64(1), int32(1), object(9)\n",
      "memory usage: 64.6+ KB\n"
     ]
    }
   ],
   "source": [
    "df.info()"
   ]
  },
  {
   "cell_type": "markdown",
   "metadata": {
    "id": "A4qj7EOFgO-r"
   },
   "source": [
    "**Rating does not impact the price of the laptops. Hence it can be dropped**"
   ]
  },
  {
   "cell_type": "code",
   "execution_count": 34,
   "metadata": {
    "colab": {
     "base_uri": "https://localhost:8080/",
     "height": 302
    },
    "id": "Cd41AvMWf5SD",
    "outputId": "ca21e987-b413-4a63-b658-a729309c4693"
   },
   "outputs": [
    {
     "data": {
      "text/html": [
       "<div>\n",
       "<style scoped>\n",
       "    .dataframe tbody tr th:only-of-type {\n",
       "        vertical-align: middle;\n",
       "    }\n",
       "\n",
       "    .dataframe tbody tr th {\n",
       "        vertical-align: top;\n",
       "    }\n",
       "\n",
       "    .dataframe thead th {\n",
       "        text-align: right;\n",
       "    }\n",
       "</style>\n",
       "<table border=\"1\" class=\"dataframe\">\n",
       "  <thead>\n",
       "    <tr style=\"text-align: right;\">\n",
       "      <th></th>\n",
       "      <th>Product</th>\n",
       "      <th>MRP</th>\n",
       "      <th>Feature</th>\n",
       "      <th>Brand</th>\n",
       "      <th>Processor</th>\n",
       "      <th>OS</th>\n",
       "      <th>RAM Size</th>\n",
       "      <th>RAM Type</th>\n",
       "      <th>Disc Size</th>\n",
       "      <th>Disc Type</th>\n",
       "    </tr>\n",
       "  </thead>\n",
       "  <tbody>\n",
       "    <tr>\n",
       "      <th>0</th>\n",
       "      <td>Lenovo IdeaPad 3 Core i3 11th Gen - (8 GB/256 ...</td>\n",
       "      <td>36990</td>\n",
       "      <td>Intel Core i3 Processor (11th Gen)8 GB DDR4 RA...</td>\n",
       "      <td>Lenovo</td>\n",
       "      <td>Intel Core i3</td>\n",
       "      <td>Windows 11</td>\n",
       "      <td>8GB</td>\n",
       "      <td>DDR4</td>\n",
       "      <td>256GB</td>\n",
       "      <td>SSD</td>\n",
       "    </tr>\n",
       "    <tr>\n",
       "      <th>1</th>\n",
       "      <td>Lenovo IdeaPad 3 Core i3 11th Gen - (8 GB/512 ...</td>\n",
       "      <td>39990</td>\n",
       "      <td>Intel Core i3 Processor (11th Gen)8 GB DDR4 RA...</td>\n",
       "      <td>Lenovo</td>\n",
       "      <td>Intel Core i3</td>\n",
       "      <td>Windows 11</td>\n",
       "      <td>8GB</td>\n",
       "      <td>DDR4</td>\n",
       "      <td>512GB</td>\n",
       "      <td>SSD</td>\n",
       "    </tr>\n",
       "    <tr>\n",
       "      <th>2</th>\n",
       "      <td>ASUS VivoBook 15 (2022) Core i3 10th Gen - (8 ...</td>\n",
       "      <td>32990</td>\n",
       "      <td>Intel Core i3 Processor (10th Gen)8 GB DDR4 RA...</td>\n",
       "      <td>ASUS</td>\n",
       "      <td>Intel Core i3</td>\n",
       "      <td>Windows 11</td>\n",
       "      <td>8GB</td>\n",
       "      <td>DDR4</td>\n",
       "      <td>512GB</td>\n",
       "      <td>SSD</td>\n",
       "    </tr>\n",
       "    <tr>\n",
       "      <th>3</th>\n",
       "      <td>HP Pavilion Ryzen 5 Hexa Core AMD R5-5600H - (...</td>\n",
       "      <td>49990</td>\n",
       "      <td>AMD Ryzen 5 Hexa Core Processor8 GB DDR4 RAM64...</td>\n",
       "      <td>HP</td>\n",
       "      <td>AMD Ryzen 5 Hexa Core</td>\n",
       "      <td>Windows 10</td>\n",
       "      <td>8GB</td>\n",
       "      <td>DDR4</td>\n",
       "      <td>512GB</td>\n",
       "      <td>SSD</td>\n",
       "    </tr>\n",
       "    <tr>\n",
       "      <th>4</th>\n",
       "      <td>ASUS TUF Gaming F15 Core i5 10th Gen - (8 GB/5...</td>\n",
       "      <td>49990</td>\n",
       "      <td>Intel Core i5 Processor (10th Gen)8 GB DDR4 RA...</td>\n",
       "      <td>ASUS</td>\n",
       "      <td>Intel Core i5</td>\n",
       "      <td>Windows 11</td>\n",
       "      <td>8GB</td>\n",
       "      <td>DDR4</td>\n",
       "      <td>512GB</td>\n",
       "      <td>SSD</td>\n",
       "    </tr>\n",
       "  </tbody>\n",
       "</table>\n",
       "</div>"
      ],
      "text/plain": [
       "                                             Product    MRP  \\\n",
       "0  Lenovo IdeaPad 3 Core i3 11th Gen - (8 GB/256 ...  36990   \n",
       "1  Lenovo IdeaPad 3 Core i3 11th Gen - (8 GB/512 ...  39990   \n",
       "2  ASUS VivoBook 15 (2022) Core i3 10th Gen - (8 ...  32990   \n",
       "3  HP Pavilion Ryzen 5 Hexa Core AMD R5-5600H - (...  49990   \n",
       "4  ASUS TUF Gaming F15 Core i5 10th Gen - (8 GB/5...  49990   \n",
       "\n",
       "                                             Feature   Brand  \\\n",
       "0  Intel Core i3 Processor (11th Gen)8 GB DDR4 RA...  Lenovo   \n",
       "1  Intel Core i3 Processor (11th Gen)8 GB DDR4 RA...  Lenovo   \n",
       "2  Intel Core i3 Processor (10th Gen)8 GB DDR4 RA...    ASUS   \n",
       "3  AMD Ryzen 5 Hexa Core Processor8 GB DDR4 RAM64...      HP   \n",
       "4  Intel Core i5 Processor (10th Gen)8 GB DDR4 RA...    ASUS   \n",
       "\n",
       "               Processor          OS RAM Size RAM Type Disc Size Disc Type  \n",
       "0          Intel Core i3  Windows 11      8GB     DDR4     256GB       SSD  \n",
       "1          Intel Core i3  Windows 11      8GB     DDR4     512GB       SSD  \n",
       "2          Intel Core i3  Windows 11      8GB     DDR4     512GB       SSD  \n",
       "3  AMD Ryzen 5 Hexa Core  Windows 10      8GB     DDR4     512GB       SSD  \n",
       "4          Intel Core i5  Windows 11      8GB     DDR4     512GB       SSD  "
      ]
     },
     "execution_count": 34,
     "metadata": {},
     "output_type": "execute_result"
    }
   ],
   "source": [
    "df=df.drop('Rating', axis=1)\n",
    "df.head()"
   ]
  },
  {
   "cell_type": "markdown",
   "metadata": {
    "id": "OxIb3r42rU2_"
   },
   "source": [
    "# Univariate Analysis on MRP "
   ]
  },
  {
   "cell_type": "code",
   "execution_count": 35,
   "metadata": {
    "colab": {
     "base_uri": "https://localhost:8080/"
    },
    "id": "xGb-VqRtrUCh",
    "outputId": "79e651b7-b0ef-4152-a63f-935c49e1790a"
   },
   "outputs": [
    {
     "data": {
      "text/plain": [
       "count       719.000000\n",
       "mean      81673.453408\n",
       "std       61569.040553\n",
       "min       14990.000000\n",
       "25%       39394.500000\n",
       "50%       59990.000000\n",
       "75%       95490.000000\n",
       "max      434830.000000\n",
       "Name: MRP, dtype: float64"
      ]
     },
     "execution_count": 35,
     "metadata": {},
     "output_type": "execute_result"
    }
   ],
   "source": [
    "df['MRP'].describe()"
   ]
  },
  {
   "cell_type": "code",
   "execution_count": 36,
   "metadata": {
    "colab": {
     "base_uri": "https://localhost:8080/"
    },
    "id": "hVX4kaQIrn1v",
    "outputId": "a6faf87f-29a4-45af-f79d-cf24b4a99261"
   },
   "outputs": [
    {
     "data": {
      "text/plain": [
       "59990.0"
      ]
     },
     "execution_count": 36,
     "metadata": {},
     "output_type": "execute_result"
    }
   ],
   "source": [
    "df['MRP'].median()"
   ]
  },
  {
   "cell_type": "code",
   "execution_count": 37,
   "metadata": {
    "colab": {
     "base_uri": "https://localhost:8080/",
     "height": 447
    },
    "id": "7BJZjO8Cr0Cb",
    "outputId": "e6c4336d-148c-4c5d-b651-18f5a4c00bb8"
   },
   "outputs": [
    {
     "data": {
      "text/plain": [
       "<Axes: >"
      ]
     },
     "execution_count": 37,
     "metadata": {},
     "output_type": "execute_result"
    },
    {
     "data": {
      "image/png": "[encoded data removed]",
      "text/plain": [
       "<Figure size 640x480 with 1 Axes>"
      ]
     },
     "metadata": {},
     "output_type": "display_data"
    }
   ],
   "source": [
    "# Check for Outliers\n",
    "df['MRP'].plot(kind='box')"
   ]
  },
  {
   "cell_type": "code",
   "execution_count": 38,
   "metadata": {
    "colab": {
     "base_uri": "https://localhost:8080/",
     "height": 447
    },
    "id": "4pnOsBvYsDXl",
    "outputId": "bbf4b692-d83b-4082-c9c5-9f204c280241"
   },
   "outputs": [
    {
     "data": {
      "text/plain": [
       "<Axes: ylabel='Frequency'>"
      ]
     },
     "execution_count": 38,
     "metadata": {},
     "output_type": "execute_result"
    },
    {
     "data": {
      "image/png": "[encoded data removed]",
      "text/plain": [
       "<Figure size 640x480 with 1 Axes>"
      ]
     },
     "metadata": {},
     "output_type": "display_data"
    }
   ],
   "source": [
    "df['MRP'].plot(kind = 'hist')"
   ]
  },
  {
   "cell_type": "code",
   "execution_count": 39,
   "metadata": {
    "colab": {
     "base_uri": "https://localhost:8080/",
     "height": 447
    },
    "id": "Q6KsriMAuVVX",
    "outputId": "a91b7107-d1b3-4cf0-d8fd-561aa5c38f35"
   },
   "outputs": [
    {
     "data": {
      "text/plain": [
       "<Axes: ylabel='Frequency'>"
      ]
     },
     "execution_count": 39,
     "metadata": {},
     "output_type": "execute_result"
    },
    {
     "data": {
      "image/png": "[encoded data removed]",
      "text/plain": [
       "<Figure size 640x480 with 1 Axes>"
      ]
     },
     "metadata": {},
     "output_type": "display_data"
    }
   ],
   "source": [
    "# Transformation\n",
    "df['MRP'].apply(lambda x : np.log(x))\n",
    "df['MRP'].plot(kind = 'hist')"
   ]
  },
  {
   "cell_type": "code",
   "execution_count": 40,
   "metadata": {
    "colab": {
     "base_uri": "https://localhost:8080/",
     "height": 462
    },
    "id": "UhbcgRkb6wUH",
    "outputId": "4c81f775-459e-472a-9933-501213cf71ee"
   },
   "outputs": [
    {
     "data": {
      "text/plain": [
       "<Axes: ylabel='Density'>"
      ]
     },
     "execution_count": 40,
     "metadata": {},
     "output_type": "execute_result"
    },
    {
     "data": {
      "image/png": "[encoded data removed]",
      "text/plain": [
       "<Figure size 640x480 with 1 Axes>"
      ]
     },
     "metadata": {},
     "output_type": "display_data"
    }
   ],
   "source": [
    "df['MRP'].plot(kind = 'kde')"
   ]
  },
  {
   "cell_type": "code",
   "execution_count": 41,
   "metadata": {
    "colab": {
     "base_uri": "https://localhost:8080/"
    },
    "id": "ButZRV-PuwtN",
    "outputId": "f49e0c76-22c2-49f6-bcd9-6159ddc38cf5"
   },
   "outputs": [
    {
     "data": {
      "text/plain": [
       "ASUS         251\n",
       "Lenovo       196\n",
       "HP            61\n",
       "DELL          61\n",
       "acer          35\n",
       "RedmiBook     31\n",
       "MSI           30\n",
       "Infinix       20\n",
       "APPLE         19\n",
       "realme         6\n",
       "ALIENWARE      3\n",
       "Ultimus        2\n",
       "SAMSUNG        1\n",
       "Vaio           1\n",
       "GIGABYTE       1\n",
       "Nokia          1\n",
       "Name: Brand, dtype: int64"
      ]
     },
     "execution_count": 41,
     "metadata": {},
     "output_type": "execute_result"
    }
   ],
   "source": [
    "# Univariate Analysis on Brand\n",
    "df['Brand'].value_counts()"
   ]
  },
  {
   "cell_type": "code",
   "execution_count": 42,
   "metadata": {
    "colab": {
     "base_uri": "https://localhost:8080/",
     "height": 514
    },
    "id": "IbeWGV2OvlPk",
    "outputId": "850fba07-2cbf-4e0c-b353-2a6b51fe1ecc"
   },
   "outputs": [
    {
     "data": {
      "text/plain": [
       "<Axes: >"
      ]
     },
     "execution_count": 42,
     "metadata": {},
     "output_type": "execute_result"
    },
    {
     "data": {
      "image/png": "[encoded data removed]",
      "text/plain": [
       "<Figure size 640x480 with 1 Axes>"
      ]
     },
     "metadata": {},
     "output_type": "display_data"
    }
   ],
   "source": [
    "df['Brand'].value_counts().plot(kind = 'bar')"
   ]
  },
  {
   "cell_type": "markdown",
   "metadata": {
    "id": "RdSWOdcg25kB"
   },
   "source": [
    "# Bivariate Analysis"
   ]
  },
  {
   "cell_type": "code",
   "execution_count": 43,
   "metadata": {
    "colab": {
     "base_uri": "https://localhost:8080/",
     "height": 517
    },
    "id": "oFByips0vxVE",
    "outputId": "24d2f053-af6c-4d18-88f9-3fc06c085f3c"
   },
   "outputs": [
    {
     "data": {
      "image/png": "[encoded data removed]",
      "text/plain": [
       "<Figure size 640x480 with 1 Axes>"
      ]
     },
     "metadata": {},
     "output_type": "display_data"
    }
   ],
   "source": [
    "# price and brand\n",
    "sns.barplot(x=df['Brand'],y=df['MRP'])\n",
    "plt.xticks(rotation='vertical')\n",
    "plt.show()"
   ]
  },
  {
   "cell_type": "code",
   "execution_count": 44,
   "metadata": {
    "colab": {
     "base_uri": "https://localhost:8080/",
     "height": 517
    },
    "id": "wvETioD11mad",
    "outputId": "ba4645cd-9e6a-4a40-d37e-858df2331f23"
   },
   "outputs": [
    {
     "data": {
      "image/png": "[encoded data removed]",
      "text/plain": [
       "<Figure size 640x480 with 1 Axes>"
      ]
     },
     "metadata": {},
     "output_type": "display_data"
    }
   ],
   "source": [
    "sns.scatterplot(x=df['Brand'],y=df['MRP'])\n",
    "plt.xticks(rotation='vertical')\n",
    "plt.show()"
   ]
  },
  {
   "cell_type": "code",
   "execution_count": 45,
   "metadata": {
    "colab": {
     "base_uri": "https://localhost:8080/",
     "height": 471
    },
    "id": "5e4loqGj1Kcv",
    "outputId": "b57f65cf-46ce-4267-8ba6-1d7a1e61dc65"
   },
   "outputs": [
    {
     "data": {
      "text/plain": [
       "<Axes: >"
      ]
     },
     "execution_count": 45,
     "metadata": {},
     "output_type": "execute_result"
    },
    {
     "data": {
      "image/png": "[encoded data removed]",
      "text/plain": [
       "<Figure size 640x480 with 1 Axes>"
      ]
     },
     "metadata": {},
     "output_type": "display_data"
    }
   ],
   "source": [
    "df['RAM Size'].value_counts().plot(kind = 'bar')"
   ]
  },
  {
   "cell_type": "code",
   "execution_count": 46,
   "metadata": {
    "colab": {
     "base_uri": "https://localhost:8080/",
     "height": 501
    },
    "id": "vWj6guga1t6k",
    "outputId": "58f54b5b-01ea-489e-e4f3-5b0e6a61c5d4"
   },
   "outputs": [
    {
     "data": {
      "image/png": "[encoded data removed]",
      "text/plain": [
       "<Figure size 640x480 with 1 Axes>"
      ]
     },
     "metadata": {},
     "output_type": "display_data"
    }
   ],
   "source": [
    "sns.barplot(x=df['RAM Type'],y=df['MRP'])\n",
    "plt.xticks(rotation='vertical')\n",
    "plt.show()"
   ]
  },
  {
   "cell_type": "code",
   "execution_count": 47,
   "metadata": {
    "colab": {
     "base_uri": "https://localhost:8080/",
     "height": 478
    },
    "id": "6IN4GN8c1__W",
    "outputId": "2d5923d9-4862-4a29-d5dd-5e03daaa8d62"
   },
   "outputs": [
    {
     "data": {
      "image/png": "[encoded data removed]",
      "text/plain": [
       "<Figure size 640x480 with 1 Axes>"
      ]
     },
     "metadata": {},
     "output_type": "display_data"
    }
   ],
   "source": [
    "sns.barplot(x=df['Disc Type'],y=df['MRP'])\n",
    "plt.xticks(rotation='vertical')\n",
    "plt.show()"
   ]
  },
  {
   "cell_type": "code",
   "execution_count": 48,
   "metadata": {
    "colab": {
     "base_uri": "https://localhost:8080/",
     "height": 482
    },
    "id": "c2HrC_7-2byK",
    "outputId": "58f4a676-6f47-4ea3-f19e-8e886a1b40b1"
   },
   "outputs": [
    {
     "data": {
      "image/png": "[encoded data removed]",
      "text/plain": [
       "<Figure size 640x480 with 1 Axes>"
      ]
     },
     "metadata": {},
     "output_type": "display_data"
    }
   ],
   "source": [
    "sns.barplot(x=df['Disc Size'],y=df['MRP'])\n",
    "plt.xticks(rotation='vertical')\n",
    "plt.show()"
   ]
  },
  {
   "cell_type": "code",
   "execution_count": 49,
   "metadata": {
    "colab": {
     "base_uri": "https://localhost:8080/",
     "height": 634
    },
    "id": "WL7QviNn2gKF",
    "outputId": "9fafe66b-6e3a-48d4-c3b5-f978fca6d385"
   },
   "outputs": [
    {
     "data": {
      "image/png": "[encoded data removed]",
      "text/plain": [
       "<Figure size 640x480 with 1 Axes>"
      ]
     },
     "metadata": {},
     "output_type": "display_data"
    }
   ],
   "source": [
    "sns.barplot(x=df['Processor'],y=df['MRP'])\n",
    "plt.xticks(rotation='vertical')\n",
    "plt.show()"
   ]
  },
  {
   "cell_type": "code",
   "execution_count": 50,
   "metadata": {
    "colab": {
     "base_uri": "https://localhost:8080/",
     "height": 520
    },
    "id": "N4xRoPnZ2wmW",
    "outputId": "d05b9ac9-7114-41c6-857d-9c74bfbce6ee"
   },
   "outputs": [
    {
     "data": {
      "image/png": "[encoded data removed]",
      "text/plain": [
       "<Figure size 640x480 with 1 Axes>"
      ]
     },
     "metadata": {},
     "output_type": "display_data"
    }
   ],
   "source": [
    "sns.barplot(x=df['OS'],y=df['MRP'])\n",
    "plt.xticks(rotation='vertical')\n",
    "plt.show()"
   ]
  },
  {
   "cell_type": "markdown",
   "metadata": {
    "id": "1sm6s8fr21nD"
   },
   "source": [
    "*Label Encoding*"
   ]
  },
  {
   "cell_type": "code",
   "execution_count": 51,
   "metadata": {
    "colab": {
     "base_uri": "https://localhost:8080/"
    },
    "id": "RVFbTBb36Aar",
    "outputId": "6eebc3a6-3bee-4079-858f-e27774e7701c"
   },
   "outputs": [
    {
     "name": "stdout",
     "output_type": "stream",
     "text": [
      "<class 'pandas.core.frame.DataFrame'>\n",
      "Int64Index: 719 entries, 0 to 719\n",
      "Data columns (total 10 columns):\n",
      " #   Column     Non-Null Count  Dtype \n",
      "---  ------     --------------  ----- \n",
      " 0   Product    719 non-null    object\n",
      " 1   MRP        719 non-null    int32 \n",
      " 2   Feature    719 non-null    object\n",
      " 3   Brand      719 non-null    object\n",
      " 4   Processor  719 non-null    object\n",
      " 5   OS         719 non-null    object\n",
      " 6   RAM Size   719 non-null    object\n",
      " 7   RAM Type   719 non-null    object\n",
      " 8   Disc Size  719 non-null    object\n",
      " 9   Disc Type  719 non-null    object\n",
      "dtypes: int32(1), object(9)\n",
      "memory usage: 59.0+ KB\n"
     ]
    }
   ],
   "source": [
    "df.info()"
   ]
  },
  {
   "cell_type": "code",
   "execution_count": 52,
   "metadata": {
    "colab": {
     "base_uri": "https://localhost:8080/",
     "height": 423
    },
    "id": "wz7a7poK75oI",
    "outputId": "fe947db9-536e-4094-e37b-5436b3a55ce5"
   },
   "outputs": [
    {
     "data": {
      "text/html": [
       "<div>\n",
       "<style scoped>\n",
       "    .dataframe tbody tr th:only-of-type {\n",
       "        vertical-align: middle;\n",
       "    }\n",
       "\n",
       "    .dataframe tbody tr th {\n",
       "        vertical-align: top;\n",
       "    }\n",
       "\n",
       "    .dataframe thead th {\n",
       "        text-align: right;\n",
       "    }\n",
       "</style>\n",
       "<table border=\"1\" class=\"dataframe\">\n",
       "  <thead>\n",
       "    <tr style=\"text-align: right;\">\n",
       "      <th></th>\n",
       "      <th>MRP</th>\n",
       "      <th>Brand</th>\n",
       "      <th>Processor</th>\n",
       "      <th>OS</th>\n",
       "      <th>RAM Size</th>\n",
       "      <th>RAM Type</th>\n",
       "      <th>Disc Size</th>\n",
       "      <th>Disc Type</th>\n",
       "    </tr>\n",
       "  </thead>\n",
       "  <tbody>\n",
       "    <tr>\n",
       "      <th>0</th>\n",
       "      <td>36990</td>\n",
       "      <td>Lenovo</td>\n",
       "      <td>Intel Core i3</td>\n",
       "      <td>Windows 11</td>\n",
       "      <td>8GB</td>\n",
       "      <td>DDR4</td>\n",
       "      <td>256GB</td>\n",
       "      <td>SSD</td>\n",
       "    </tr>\n",
       "    <tr>\n",
       "      <th>1</th>\n",
       "      <td>39990</td>\n",
       "      <td>Lenovo</td>\n",
       "      <td>Intel Core i3</td>\n",
       "      <td>Windows 11</td>\n",
       "      <td>8GB</td>\n",
       "      <td>DDR4</td>\n",
       "      <td>512GB</td>\n",
       "      <td>SSD</td>\n",
       "    </tr>\n",
       "    <tr>\n",
       "      <th>2</th>\n",
       "      <td>32990</td>\n",
       "      <td>ASUS</td>\n",
       "      <td>Intel Core i3</td>\n",
       "      <td>Windows 11</td>\n",
       "      <td>8GB</td>\n",
       "      <td>DDR4</td>\n",
       "      <td>512GB</td>\n",
       "      <td>SSD</td>\n",
       "    </tr>\n",
       "    <tr>\n",
       "      <th>3</th>\n",
       "      <td>49990</td>\n",
       "      <td>HP</td>\n",
       "      <td>AMD Ryzen 5 Hexa Core</td>\n",
       "      <td>Windows 10</td>\n",
       "      <td>8GB</td>\n",
       "      <td>DDR4</td>\n",
       "      <td>512GB</td>\n",
       "      <td>SSD</td>\n",
       "    </tr>\n",
       "    <tr>\n",
       "      <th>4</th>\n",
       "      <td>49990</td>\n",
       "      <td>ASUS</td>\n",
       "      <td>Intel Core i5</td>\n",
       "      <td>Windows 11</td>\n",
       "      <td>8GB</td>\n",
       "      <td>DDR4</td>\n",
       "      <td>512GB</td>\n",
       "      <td>SSD</td>\n",
       "    </tr>\n",
       "    <tr>\n",
       "      <th>...</th>\n",
       "      <td>...</td>\n",
       "      <td>...</td>\n",
       "      <td>...</td>\n",
       "      <td>...</td>\n",
       "      <td>...</td>\n",
       "      <td>...</td>\n",
       "      <td>...</td>\n",
       "      <td>...</td>\n",
       "    </tr>\n",
       "    <tr>\n",
       "      <th>715</th>\n",
       "      <td>23490</td>\n",
       "      <td>ASUS</td>\n",
       "      <td>Intel Celeron Dual Core</td>\n",
       "      <td>Chrome</td>\n",
       "      <td>4GB</td>\n",
       "      <td>LPDDR4</td>\n",
       "      <td>64GB</td>\n",
       "      <td>EMMC</td>\n",
       "    </tr>\n",
       "    <tr>\n",
       "      <th>716</th>\n",
       "      <td>73490</td>\n",
       "      <td>Lenovo</td>\n",
       "      <td>AMD Ryzen 7 Octa Core</td>\n",
       "      <td>Windows 11</td>\n",
       "      <td>8GB</td>\n",
       "      <td>DDR4</td>\n",
       "      <td>512GB</td>\n",
       "      <td>SSD</td>\n",
       "    </tr>\n",
       "    <tr>\n",
       "      <th>717</th>\n",
       "      <td>194990</td>\n",
       "      <td>ASUS</td>\n",
       "      <td>AMD Ryzen 9 Octa Core</td>\n",
       "      <td>Windows 11</td>\n",
       "      <td>16GB</td>\n",
       "      <td>DDR5</td>\n",
       "      <td>1TB</td>\n",
       "      <td>SSD</td>\n",
       "    </tr>\n",
       "    <tr>\n",
       "      <th>718</th>\n",
       "      <td>125990</td>\n",
       "      <td>ASUS</td>\n",
       "      <td>Intel Core i7</td>\n",
       "      <td>Windows 11</td>\n",
       "      <td>16GB</td>\n",
       "      <td>LPDDR5</td>\n",
       "      <td>512GB</td>\n",
       "      <td>SSD</td>\n",
       "    </tr>\n",
       "    <tr>\n",
       "      <th>719</th>\n",
       "      <td>50990</td>\n",
       "      <td>Lenovo</td>\n",
       "      <td>Intel Core i5</td>\n",
       "      <td>Windows 10</td>\n",
       "      <td>8GB</td>\n",
       "      <td>DDR4</td>\n",
       "      <td>1TB</td>\n",
       "      <td>HDD</td>\n",
       "    </tr>\n",
       "  </tbody>\n",
       "</table>\n",
       "<p>719 rows × 8 columns</p>\n",
       "</div>"
      ],
      "text/plain": [
       "        MRP   Brand                Processor          OS RAM Size RAM Type  \\\n",
       "0     36990  Lenovo            Intel Core i3  Windows 11      8GB     DDR4   \n",
       "1     39990  Lenovo            Intel Core i3  Windows 11      8GB     DDR4   \n",
       "2     32990    ASUS            Intel Core i3  Windows 11      8GB     DDR4   \n",
       "3     49990      HP    AMD Ryzen 5 Hexa Core  Windows 10      8GB     DDR4   \n",
       "4     49990    ASUS            Intel Core i5  Windows 11      8GB     DDR4   \n",
       "..      ...     ...                      ...         ...      ...      ...   \n",
       "715   23490    ASUS  Intel Celeron Dual Core      Chrome      4GB   LPDDR4   \n",
       "716   73490  Lenovo    AMD Ryzen 7 Octa Core  Windows 11      8GB     DDR4   \n",
       "717  194990    ASUS    AMD Ryzen 9 Octa Core  Windows 11     16GB     DDR5   \n",
       "718  125990    ASUS            Intel Core i7  Windows 11     16GB   LPDDR5   \n",
       "719   50990  Lenovo            Intel Core i5  Windows 10      8GB     DDR4   \n",
       "\n",
       "    Disc Size Disc Type  \n",
       "0       256GB       SSD  \n",
       "1       512GB       SSD  \n",
       "2       512GB       SSD  \n",
       "3       512GB       SSD  \n",
       "4       512GB       SSD  \n",
       "..        ...       ...  \n",
       "715      64GB      EMMC  \n",
       "716     512GB       SSD  \n",
       "717       1TB       SSD  \n",
       "718     512GB       SSD  \n",
       "719       1TB       HDD  \n",
       "\n",
       "[719 rows x 8 columns]"
      ]
     },
     "execution_count": 52,
     "metadata": {},
     "output_type": "execute_result"
    }
   ],
   "source": [
    "df=df.drop(columns=['Product','Feature'])\n",
    "df"
   ]
  },
  {
   "cell_type": "code",
   "execution_count": 53,
   "metadata": {
    "colab": {
     "base_uri": "https://localhost:8080/",
     "height": 423
    },
    "id": "oaPfqEEh4uJk",
    "outputId": "a2a561a2-e3c1-4982-d6d5-c94214cb2cdd"
   },
   "outputs": [
    {
     "data": {
      "text/html": [
       "<div>\n",
       "<style scoped>\n",
       "    .dataframe tbody tr th:only-of-type {\n",
       "        vertical-align: middle;\n",
       "    }\n",
       "\n",
       "    .dataframe tbody tr th {\n",
       "        vertical-align: top;\n",
       "    }\n",
       "\n",
       "    .dataframe thead th {\n",
       "        text-align: right;\n",
       "    }\n",
       "</style>\n",
       "<table border=\"1\" class=\"dataframe\">\n",
       "  <thead>\n",
       "    <tr style=\"text-align: right;\">\n",
       "      <th></th>\n",
       "      <th>MRP</th>\n",
       "      <th>Brand</th>\n",
       "      <th>Processor</th>\n",
       "      <th>OS</th>\n",
       "      <th>RAM Size</th>\n",
       "      <th>RAM Type</th>\n",
       "      <th>Disc Size</th>\n",
       "      <th>Disc Type</th>\n",
       "    </tr>\n",
       "  </thead>\n",
       "  <tbody>\n",
       "    <tr>\n",
       "      <th>0</th>\n",
       "      <td>36990</td>\n",
       "      <td>7</td>\n",
       "      <td>17</td>\n",
       "      <td>4</td>\n",
       "      <td>3</td>\n",
       "      <td>0</td>\n",
       "      <td>2</td>\n",
       "      <td>2</td>\n",
       "    </tr>\n",
       "    <tr>\n",
       "      <th>1</th>\n",
       "      <td>39990</td>\n",
       "      <td>7</td>\n",
       "      <td>17</td>\n",
       "      <td>4</td>\n",
       "      <td>3</td>\n",
       "      <td>0</td>\n",
       "      <td>5</td>\n",
       "      <td>2</td>\n",
       "    </tr>\n",
       "    <tr>\n",
       "      <th>2</th>\n",
       "      <td>32990</td>\n",
       "      <td>2</td>\n",
       "      <td>17</td>\n",
       "      <td>4</td>\n",
       "      <td>3</td>\n",
       "      <td>0</td>\n",
       "      <td>5</td>\n",
       "      <td>2</td>\n",
       "    </tr>\n",
       "    <tr>\n",
       "      <th>3</th>\n",
       "      <td>49990</td>\n",
       "      <td>5</td>\n",
       "      <td>6</td>\n",
       "      <td>3</td>\n",
       "      <td>3</td>\n",
       "      <td>0</td>\n",
       "      <td>5</td>\n",
       "      <td>2</td>\n",
       "    </tr>\n",
       "    <tr>\n",
       "      <th>4</th>\n",
       "      <td>49990</td>\n",
       "      <td>2</td>\n",
       "      <td>18</td>\n",
       "      <td>4</td>\n",
       "      <td>3</td>\n",
       "      <td>0</td>\n",
       "      <td>5</td>\n",
       "      <td>2</td>\n",
       "    </tr>\n",
       "    <tr>\n",
       "      <th>...</th>\n",
       "      <td>...</td>\n",
       "      <td>...</td>\n",
       "      <td>...</td>\n",
       "      <td>...</td>\n",
       "      <td>...</td>\n",
       "      <td>...</td>\n",
       "      <td>...</td>\n",
       "      <td>...</td>\n",
       "    </tr>\n",
       "    <tr>\n",
       "      <th>715</th>\n",
       "      <td>23490</td>\n",
       "      <td>2</td>\n",
       "      <td>15</td>\n",
       "      <td>0</td>\n",
       "      <td>2</td>\n",
       "      <td>3</td>\n",
       "      <td>6</td>\n",
       "      <td>0</td>\n",
       "    </tr>\n",
       "    <tr>\n",
       "      <th>716</th>\n",
       "      <td>73490</td>\n",
       "      <td>7</td>\n",
       "      <td>8</td>\n",
       "      <td>4</td>\n",
       "      <td>3</td>\n",
       "      <td>0</td>\n",
       "      <td>5</td>\n",
       "      <td>2</td>\n",
       "    </tr>\n",
       "    <tr>\n",
       "      <th>717</th>\n",
       "      <td>194990</td>\n",
       "      <td>2</td>\n",
       "      <td>10</td>\n",
       "      <td>4</td>\n",
       "      <td>0</td>\n",
       "      <td>1</td>\n",
       "      <td>1</td>\n",
       "      <td>2</td>\n",
       "    </tr>\n",
       "    <tr>\n",
       "      <th>718</th>\n",
       "      <td>125990</td>\n",
       "      <td>2</td>\n",
       "      <td>19</td>\n",
       "      <td>4</td>\n",
       "      <td>0</td>\n",
       "      <td>5</td>\n",
       "      <td>5</td>\n",
       "      <td>2</td>\n",
       "    </tr>\n",
       "    <tr>\n",
       "      <th>719</th>\n",
       "      <td>50990</td>\n",
       "      <td>7</td>\n",
       "      <td>18</td>\n",
       "      <td>3</td>\n",
       "      <td>3</td>\n",
       "      <td>0</td>\n",
       "      <td>1</td>\n",
       "      <td>1</td>\n",
       "    </tr>\n",
       "  </tbody>\n",
       "</table>\n",
       "<p>719 rows × 8 columns</p>\n",
       "</div>"
      ],
      "text/plain": [
       "        MRP  Brand  Processor  OS  RAM Size  RAM Type  Disc Size  Disc Type\n",
       "0     36990      7         17   4         3         0          2          2\n",
       "1     39990      7         17   4         3         0          5          2\n",
       "2     32990      2         17   4         3         0          5          2\n",
       "3     49990      5          6   3         3         0          5          2\n",
       "4     49990      2         18   4         3         0          5          2\n",
       "..      ...    ...        ...  ..       ...       ...        ...        ...\n",
       "715   23490      2         15   0         2         3          6          0\n",
       "716   73490      7          8   4         3         0          5          2\n",
       "717  194990      2         10   4         0         1          1          2\n",
       "718  125990      2         19   4         0         5          5          2\n",
       "719   50990      7         18   3         3         0          1          1\n",
       "\n",
       "[719 rows x 8 columns]"
      ]
     },
     "execution_count": 53,
     "metadata": {},
     "output_type": "execute_result"
    }
   ],
   "source": [
    "from sklearn.preprocessing import LabelEncoder\n",
    "\n",
    "le=LabelEncoder()\n",
    "\n",
    "df['Brand']=le.fit_transform(df['Brand'])\n",
    "df['Processor'] = le.fit_transform(df['Processor'])\n",
    "df['OS'] = le.fit_transform(df['OS'])\n",
    "df['RAM Size'] = le.fit_transform(df['RAM Size'])\n",
    "df['RAM Type'] = le.fit_transform(df['RAM Type'])\n",
    "df['Disc Size'] = le.fit_transform(df['Disc Size'])\n",
    "df['Disc Type'] = le.fit_transform(df['Disc Type'])\n",
    "df"
   ]
  },
  {
   "cell_type": "code",
   "execution_count": 54,
   "metadata": {
    "colab": {
     "base_uri": "https://localhost:8080/"
    },
    "id": "XAnpG1QV-ZXF",
    "outputId": "8a398032-034d-4a0f-d81a-e7ec863510c5"
   },
   "outputs": [
    {
     "name": "stdout",
     "output_type": "stream",
     "text": [
      "<class 'pandas.core.frame.DataFrame'>\n",
      "Int64Index: 719 entries, 0 to 719\n",
      "Data columns (total 8 columns):\n",
      " #   Column     Non-Null Count  Dtype\n",
      "---  ------     --------------  -----\n",
      " 0   MRP        719 non-null    int32\n",
      " 1   Brand      719 non-null    int32\n",
      " 2   Processor  719 non-null    int32\n",
      " 3   OS         719 non-null    int32\n",
      " 4   RAM Size   719 non-null    int32\n",
      " 5   RAM Type   719 non-null    int32\n",
      " 6   Disc Size  719 non-null    int32\n",
      " 7   Disc Type  719 non-null    int32\n",
      "dtypes: int32(8)\n",
      "memory usage: 28.1 KB\n"
     ]
    }
   ],
   "source": [
    "df.info()"
   ]
  },
  {
   "cell_type": "code",
   "execution_count": 55,
   "metadata": {
    "colab": {
     "base_uri": "https://localhost:8080/"
    },
    "id": "hek55PknAmo5",
    "outputId": "ecd79102-3545-444e-8400-f760d1303e60"
   },
   "outputs": [
    {
     "name": "stdout",
     "output_type": "stream",
     "text": [
      "[[ 0.54670838  0.70280017  0.45322049 ... -0.40781508 -0.68193647\n",
      "   0.27880135]\n",
      " [ 0.54670838  0.70280017  0.45322049 ... -0.40781508  0.90826565\n",
      "   0.27880135]\n",
      " [-0.9189267   0.70280017  0.45322049 ... -0.40781508  0.90826565\n",
      "   0.27880135]\n",
      " ...\n",
      " [-0.9189267  -0.5453273   0.45322049 ...  0.36584994 -1.21200384\n",
      "   0.27880135]\n",
      " [-0.9189267   1.05940802  0.45322049 ...  3.46051002  0.90826565\n",
      "   0.27880135]\n",
      " [ 0.54670838  0.88110409 -1.13636748 ... -0.40781508 -1.21200384\n",
      "  -2.75844366]]\n"
     ]
    }
   ],
   "source": [
    "X = df.drop('MRP', axis = 1).values\n",
    "y = df['MRP'].values\n",
    "\n",
    "from sklearn.preprocessing import StandardScaler, MinMaxScaler\n",
    "std=StandardScaler()\n",
    "X=std.fit_transform(X)\n",
    "\n",
    "print(X)"
   ]
  },
  {
   "cell_type": "markdown",
   "metadata": {
    "id": "Q9N_vpi9BBRk"
   },
   "source": [
    "**Split into training and testing set**"
   ]
  },
  {
   "cell_type": "code",
   "execution_count": 56,
   "metadata": {
    "colab": {
     "base_uri": "https://localhost:8080/"
    },
    "id": "L2yCO9bOA8tt",
    "outputId": "22720235-59f4-450b-83f1-d037fd615d19"
   },
   "outputs": [
    {
     "name": "stdout",
     "output_type": "stream",
     "text": [
      "(575, 7)\n",
      "(575,)\n",
      "(144, 7)\n",
      "(144,)\n"
     ]
    }
   ],
   "source": [
    "from sklearn.model_selection import train_test_split\n",
    "\n",
    "x_train, x_test, y_train, y_test = train_test_split(X, y, test_size=0.2, random_state=42)\n",
    "print(x_train.shape)\n",
    "print(y_train.shape)\n",
    "print(x_test.shape)\n",
    "print(y_test.shape)"
   ]
  },
  {
   "cell_type": "markdown",
   "metadata": {
    "id": "-zvSqAyoCIYI"
   },
   "source": [
    "# Neural networks for predicting the laptop priceMachine Learning Regression Models\n",
    "\n"
   ]
  },
  {
   "cell_type": "code",
   "execution_count": 57,
   "metadata": {
    "colab": {
     "base_uri": "https://localhost:8080/",
     "height": 81
    },
    "id": "6Zh-g0AhEvPB",
    "outputId": "3594f143-1705-4775-be6a-a60fc12db81b"
   },
   "outputs": [
    {
     "data": {
      "text/html": [
       "<div>\n",
       "<style scoped>\n",
       "    .dataframe tbody tr th:only-of-type {\n",
       "        vertical-align: middle;\n",
       "    }\n",
       "\n",
       "    .dataframe tbody tr th {\n",
       "        vertical-align: top;\n",
       "    }\n",
       "\n",
       "    .dataframe thead th {\n",
       "        text-align: right;\n",
       "    }\n",
       "</style>\n",
       "<table border=\"1\" class=\"dataframe\">\n",
       "  <thead>\n",
       "    <tr style=\"text-align: right;\">\n",
       "      <th></th>\n",
       "      <th>Model</th>\n",
       "      <th>MSE</th>\n",
       "      <th>RMSE</th>\n",
       "      <th>R2 Score</th>\n",
       "    </tr>\n",
       "  </thead>\n",
       "  <tbody>\n",
       "    <tr>\n",
       "      <th>0</th>\n",
       "      <td>Linear Regression</td>\n",
       "      <td>1.873579e+09</td>\n",
       "      <td>43284.86</td>\n",
       "      <td>-0.058025</td>\n",
       "    </tr>\n",
       "  </tbody>\n",
       "</table>\n",
       "</div>"
      ],
      "text/plain": [
       "               Model           MSE      RMSE  R2 Score\n",
       "0  Linear Regression  1.873579e+09  43284.86 -0.058025"
      ]
     },
     "execution_count": 57,
     "metadata": {},
     "output_type": "execute_result"
    }
   ],
   "source": [
    "# Linear Regression\n",
    "from sklearn.linear_model import LinearRegression\n",
    "lr=LinearRegression()\n",
    "lr=lr.fit(x_train,y_train)\n",
    "y_pred=lr.predict(x_test)\n",
    "\n",
    "from sklearn.metrics import mean_squared_error as mse, r2_score\n",
    "\n",
    "MSE=mse(y_pred,y_test).round(2)\n",
    "RMSE=np.sqrt(MSE).round(2)\n",
    "R2=r2_score(y_pred, y_test)\n",
    "\n",
    "results=pd.DataFrame({\"Model\":[\"Linear Regression\"], \"MSE\":[MSE], \"RMSE\":[RMSE], \"R2 Score\":[R2]})\n",
    "results\n"
   ]
  },
  {
   "cell_type": "code",
   "execution_count": 58,
   "metadata": {
    "colab": {
     "base_uri": "https://localhost:8080/",
     "height": 112
    },
    "id": "KcpMaDx6FDpE",
    "outputId": "c91d3675-9634-4f31-a0ad-4e9c8febaba2"
   },
   "outputs": [
    {
     "data": {
      "text/html": [
       "<div>\n",
       "<style scoped>\n",
       "    .dataframe tbody tr th:only-of-type {\n",
       "        vertical-align: middle;\n",
       "    }\n",
       "\n",
       "    .dataframe tbody tr th {\n",
       "        vertical-align: top;\n",
       "    }\n",
       "\n",
       "    .dataframe thead th {\n",
       "        text-align: right;\n",
       "    }\n",
       "</style>\n",
       "<table border=\"1\" class=\"dataframe\">\n",
       "  <thead>\n",
       "    <tr style=\"text-align: right;\">\n",
       "      <th></th>\n",
       "      <th>Model</th>\n",
       "      <th>MSE</th>\n",
       "      <th>RMSE</th>\n",
       "      <th>R2 Score</th>\n",
       "    </tr>\n",
       "  </thead>\n",
       "  <tbody>\n",
       "    <tr>\n",
       "      <th>0</th>\n",
       "      <td>Linear Regression</td>\n",
       "      <td>1.873579e+09</td>\n",
       "      <td>43284.86</td>\n",
       "      <td>-0.058025</td>\n",
       "    </tr>\n",
       "    <tr>\n",
       "      <th>0</th>\n",
       "      <td>Decision Tree Regression</td>\n",
       "      <td>2.511516e+08</td>\n",
       "      <td>15847.76</td>\n",
       "      <td>0.902647</td>\n",
       "    </tr>\n",
       "  </tbody>\n",
       "</table>\n",
       "</div>"
      ],
      "text/plain": [
       "                      Model           MSE      RMSE  R2 Score\n",
       "0         Linear Regression  1.873579e+09  43284.86 -0.058025\n",
       "0  Decision Tree Regression  2.511516e+08  15847.76  0.902647"
      ]
     },
     "execution_count": 58,
     "metadata": {},
     "output_type": "execute_result"
    }
   ],
   "source": [
    "# Decision Tree\n",
    "from sklearn.tree import DecisionTreeRegressor\n",
    "\n",
    "dt=DecisionTreeRegressor(random_state=0)\n",
    "dt.fit(x_train,y_train)\n",
    "y_pred=dt.predict(x_test)\n",
    "MSE=mse(y_pred,y_test).round(2)\n",
    "RMSE=np.sqrt(MSE).round(2)\n",
    "R2=r2_score(y_pred, y_test)\n",
    "\n",
    "result=pd.DataFrame({\"Model\":[\"Decision Tree Regression\"], \"MSE\":[MSE], \"RMSE\":[RMSE], \"R2 Score\":[R2]})\n",
    "\n",
    "results=pd.concat([results,result])\n",
    "results"
   ]
  },
  {
   "cell_type": "code",
   "execution_count": 59,
   "metadata": {
    "colab": {
     "base_uri": "https://localhost:8080/",
     "height": 143
    },
    "id": "GZql2iGKFJCu",
    "outputId": "35915087-5ab5-48ac-d279-4ea6fa38fce7"
   },
   "outputs": [
    {
     "data": {
      "text/html": [
       "<div>\n",
       "<style scoped>\n",
       "    .dataframe tbody tr th:only-of-type {\n",
       "        vertical-align: middle;\n",
       "    }\n",
       "\n",
       "    .dataframe tbody tr th {\n",
       "        vertical-align: top;\n",
       "    }\n",
       "\n",
       "    .dataframe thead th {\n",
       "        text-align: right;\n",
       "    }\n",
       "</style>\n",
       "<table border=\"1\" class=\"dataframe\">\n",
       "  <thead>\n",
       "    <tr style=\"text-align: right;\">\n",
       "      <th></th>\n",
       "      <th>Model</th>\n",
       "      <th>MSE</th>\n",
       "      <th>RMSE</th>\n",
       "      <th>R2 Score</th>\n",
       "    </tr>\n",
       "  </thead>\n",
       "  <tbody>\n",
       "    <tr>\n",
       "      <th>0</th>\n",
       "      <td>Linear Regression</td>\n",
       "      <td>1.873579e+09</td>\n",
       "      <td>43284.86</td>\n",
       "      <td>-0.058025</td>\n",
       "    </tr>\n",
       "    <tr>\n",
       "      <th>0</th>\n",
       "      <td>Decision Tree Regression</td>\n",
       "      <td>2.511516e+08</td>\n",
       "      <td>15847.76</td>\n",
       "      <td>0.902647</td>\n",
       "    </tr>\n",
       "    <tr>\n",
       "      <th>0</th>\n",
       "      <td>Random Forest Regression</td>\n",
       "      <td>2.344513e+08</td>\n",
       "      <td>15311.80</td>\n",
       "      <td>0.906180</td>\n",
       "    </tr>\n",
       "  </tbody>\n",
       "</table>\n",
       "</div>"
      ],
      "text/plain": [
       "                      Model           MSE      RMSE  R2 Score\n",
       "0         Linear Regression  1.873579e+09  43284.86 -0.058025\n",
       "0  Decision Tree Regression  2.511516e+08  15847.76  0.902647\n",
       "0  Random Forest Regression  2.344513e+08  15311.80  0.906180"
      ]
     },
     "execution_count": 59,
     "metadata": {},
     "output_type": "execute_result"
    }
   ],
   "source": [
    "# Random Forest\n",
    "from sklearn.ensemble import RandomForestRegressor\n",
    "\n",
    "rf=RandomForestRegressor(n_estimators=100)\n",
    "rf.fit(x_train,y_train)\n",
    "y_pred=rf.predict(x_test)\n",
    "MSE=mse(y_pred,y_test).round(2)\n",
    "RMSE=np.sqrt(MSE).round(2)\n",
    "R2=r2_score(y_pred, y_test)\n",
    "\n",
    "result=pd.DataFrame({\"Model\":[\"Random Forest Regression\"], \"MSE\":[MSE], \"RMSE\":[RMSE], \"R2 Score\":[R2]})\n",
    "\n",
    "results=pd.concat([results,result])\n",
    "results"
   ]
  },
  {
   "cell_type": "code",
   "execution_count": 60,
   "metadata": {
    "colab": {
     "base_uri": "https://localhost:8080/",
     "height": 175
    },
    "id": "y_cF2UEQFQLL",
    "outputId": "0d8983f1-eade-4fb8-d9a0-b3ba4031efce"
   },
   "outputs": [
    {
     "data": {
      "text/html": [
       "<div>\n",
       "<style scoped>\n",
       "    .dataframe tbody tr th:only-of-type {\n",
       "        vertical-align: middle;\n",
       "    }\n",
       "\n",
       "    .dataframe tbody tr th {\n",
       "        vertical-align: top;\n",
       "    }\n",
       "\n",
       "    .dataframe thead th {\n",
       "        text-align: right;\n",
       "    }\n",
       "</style>\n",
       "<table border=\"1\" class=\"dataframe\">\n",
       "  <thead>\n",
       "    <tr style=\"text-align: right;\">\n",
       "      <th></th>\n",
       "      <th>Model</th>\n",
       "      <th>MSE</th>\n",
       "      <th>RMSE</th>\n",
       "      <th>R2 Score</th>\n",
       "    </tr>\n",
       "  </thead>\n",
       "  <tbody>\n",
       "    <tr>\n",
       "      <th>0</th>\n",
       "      <td>Linear Regression</td>\n",
       "      <td>1.873579e+09</td>\n",
       "      <td>43284.86</td>\n",
       "      <td>-0.058025</td>\n",
       "    </tr>\n",
       "    <tr>\n",
       "      <th>0</th>\n",
       "      <td>Decision Tree Regression</td>\n",
       "      <td>2.511516e+08</td>\n",
       "      <td>15847.76</td>\n",
       "      <td>0.902647</td>\n",
       "    </tr>\n",
       "    <tr>\n",
       "      <th>0</th>\n",
       "      <td>Random Forest Regression</td>\n",
       "      <td>2.344513e+08</td>\n",
       "      <td>15311.80</td>\n",
       "      <td>0.906180</td>\n",
       "    </tr>\n",
       "    <tr>\n",
       "      <th>0</th>\n",
       "      <td>Gradient Boosting Regression</td>\n",
       "      <td>1.974534e+08</td>\n",
       "      <td>14051.81</td>\n",
       "      <td>0.923013</td>\n",
       "    </tr>\n",
       "  </tbody>\n",
       "</table>\n",
       "</div>"
      ],
      "text/plain": [
       "                          Model           MSE      RMSE  R2 Score\n",
       "0             Linear Regression  1.873579e+09  43284.86 -0.058025\n",
       "0      Decision Tree Regression  2.511516e+08  15847.76  0.902647\n",
       "0      Random Forest Regression  2.344513e+08  15311.80  0.906180\n",
       "0  Gradient Boosting Regression  1.974534e+08  14051.81  0.923013"
      ]
     },
     "execution_count": 60,
     "metadata": {},
     "output_type": "execute_result"
    }
   ],
   "source": [
    "# Gradient boosting\n",
    "from sklearn.ensemble import GradientBoostingRegressor\n",
    "\n",
    "grb= GradientBoostingRegressor(n_estimators =100,random_state =0) \n",
    "grb.fit(x_train, y_train) \n",
    "y_pred = grb.predict(x_test)\n",
    "MSE=mse(y_pred,y_test).round(2)\n",
    "RMSE=np.sqrt(MSE).round(2)\n",
    "R2=r2_score(y_pred, y_test)\n",
    "\n",
    "result=pd.DataFrame({\"Model\":[\"Gradient Boosting Regression\"], \"MSE\":[MSE], \"RMSE\":[RMSE], \"R2 Score\":[R2]})\n",
    "\n",
    "results=pd.concat([results,result])\n",
    "results"
   ]
  },
  {
   "cell_type": "code",
   "execution_count": 61,
   "metadata": {
    "colab": {
     "base_uri": "https://localhost:8080/",
     "height": 206
    },
    "id": "Fp65JV2PFWBZ",
    "outputId": "78261be0-7942-4956-f959-e2d8284bf159"
   },
   "outputs": [
    {
     "data": {
      "text/html": [
       "<div>\n",
       "<style scoped>\n",
       "    .dataframe tbody tr th:only-of-type {\n",
       "        vertical-align: middle;\n",
       "    }\n",
       "\n",
       "    .dataframe tbody tr th {\n",
       "        vertical-align: top;\n",
       "    }\n",
       "\n",
       "    .dataframe thead th {\n",
       "        text-align: right;\n",
       "    }\n",
       "</style>\n",
       "<table border=\"1\" class=\"dataframe\">\n",
       "  <thead>\n",
       "    <tr style=\"text-align: right;\">\n",
       "      <th></th>\n",
       "      <th>Model</th>\n",
       "      <th>MSE</th>\n",
       "      <th>RMSE</th>\n",
       "      <th>R2 Score</th>\n",
       "    </tr>\n",
       "  </thead>\n",
       "  <tbody>\n",
       "    <tr>\n",
       "      <th>0</th>\n",
       "      <td>Linear Regression</td>\n",
       "      <td>1.873579e+09</td>\n",
       "      <td>43284.86</td>\n",
       "      <td>-0.058025</td>\n",
       "    </tr>\n",
       "    <tr>\n",
       "      <th>0</th>\n",
       "      <td>Decision Tree Regression</td>\n",
       "      <td>2.511516e+08</td>\n",
       "      <td>15847.76</td>\n",
       "      <td>0.902647</td>\n",
       "    </tr>\n",
       "    <tr>\n",
       "      <th>0</th>\n",
       "      <td>Random Forest Regression</td>\n",
       "      <td>2.344513e+08</td>\n",
       "      <td>15311.80</td>\n",
       "      <td>0.906180</td>\n",
       "    </tr>\n",
       "    <tr>\n",
       "      <th>0</th>\n",
       "      <td>Gradient Boosting Regression</td>\n",
       "      <td>1.974534e+08</td>\n",
       "      <td>14051.81</td>\n",
       "      <td>0.923013</td>\n",
       "    </tr>\n",
       "    <tr>\n",
       "      <th>0</th>\n",
       "      <td>ADA Boost Regression</td>\n",
       "      <td>5.582229e+08</td>\n",
       "      <td>23626.74</td>\n",
       "      <td>0.718593</td>\n",
       "    </tr>\n",
       "  </tbody>\n",
       "</table>\n",
       "</div>"
      ],
      "text/plain": [
       "                          Model           MSE      RMSE  R2 Score\n",
       "0             Linear Regression  1.873579e+09  43284.86 -0.058025\n",
       "0      Decision Tree Regression  2.511516e+08  15847.76  0.902647\n",
       "0      Random Forest Regression  2.344513e+08  15311.80  0.906180\n",
       "0  Gradient Boosting Regression  1.974534e+08  14051.81  0.923013\n",
       "0          ADA Boost Regression  5.582229e+08  23626.74  0.718593"
      ]
     },
     "execution_count": 61,
     "metadata": {},
     "output_type": "execute_result"
    }
   ],
   "source": [
    "#  ADA Boost\n",
    "from sklearn.ensemble import AdaBoostRegressor\n",
    "\n",
    "ada=AdaBoostRegressor(n_estimators=100,learning_rate=0.001,random_state=0)\n",
    "ada.fit(x_train,y_train)\n",
    "y_pred=ada.predict(x_test)\n",
    "MSE=mse(y_pred,y_test).round(2)\n",
    "RMSE=np.sqrt(MSE).round(2)\n",
    "R2=r2_score(y_pred, y_test)\n",
    "\n",
    "result=pd.DataFrame({\"Model\":[\"ADA Boost Regression\"], \"MSE\":[MSE], \"RMSE\":[RMSE], \"R2 Score\":[R2]})\n",
    "\n",
    "results=pd.concat([results,result])\n",
    "results"
   ]
  },
  {
   "cell_type": "code",
   "execution_count": 62,
   "metadata": {
    "colab": {
     "base_uri": "https://localhost:8080/",
     "height": 237
    },
    "id": "3y1SQVy_FaGs",
    "outputId": "d7a323a9-d782-49e5-9b9a-a98a7e310816"
   },
   "outputs": [
    {
     "data": {
      "text/html": [
       "<div>\n",
       "<style scoped>\n",
       "    .dataframe tbody tr th:only-of-type {\n",
       "        vertical-align: middle;\n",
       "    }\n",
       "\n",
       "    .dataframe tbody tr th {\n",
       "        vertical-align: top;\n",
       "    }\n",
       "\n",
       "    .dataframe thead th {\n",
       "        text-align: right;\n",
       "    }\n",
       "</style>\n",
       "<table border=\"1\" class=\"dataframe\">\n",
       "  <thead>\n",
       "    <tr style=\"text-align: right;\">\n",
       "      <th></th>\n",
       "      <th>Model</th>\n",
       "      <th>MSE</th>\n",
       "      <th>RMSE</th>\n",
       "      <th>R2 Score</th>\n",
       "    </tr>\n",
       "  </thead>\n",
       "  <tbody>\n",
       "    <tr>\n",
       "      <th>0</th>\n",
       "      <td>Linear Regression</td>\n",
       "      <td>1.873579e+09</td>\n",
       "      <td>43284.86</td>\n",
       "      <td>-0.058025</td>\n",
       "    </tr>\n",
       "    <tr>\n",
       "      <th>0</th>\n",
       "      <td>Decision Tree Regression</td>\n",
       "      <td>2.511516e+08</td>\n",
       "      <td>15847.76</td>\n",
       "      <td>0.902647</td>\n",
       "    </tr>\n",
       "    <tr>\n",
       "      <th>0</th>\n",
       "      <td>Random Forest Regression</td>\n",
       "      <td>2.344513e+08</td>\n",
       "      <td>15311.80</td>\n",
       "      <td>0.906180</td>\n",
       "    </tr>\n",
       "    <tr>\n",
       "      <th>0</th>\n",
       "      <td>Gradient Boosting Regression</td>\n",
       "      <td>1.974534e+08</td>\n",
       "      <td>14051.81</td>\n",
       "      <td>0.923013</td>\n",
       "    </tr>\n",
       "    <tr>\n",
       "      <th>0</th>\n",
       "      <td>ADA Boost Regression</td>\n",
       "      <td>5.582229e+08</td>\n",
       "      <td>23626.74</td>\n",
       "      <td>0.718593</td>\n",
       "    </tr>\n",
       "    <tr>\n",
       "      <th>0</th>\n",
       "      <td>XG Boost Regression</td>\n",
       "      <td>2.005710e+08</td>\n",
       "      <td>14162.31</td>\n",
       "      <td>0.922270</td>\n",
       "    </tr>\n",
       "  </tbody>\n",
       "</table>\n",
       "</div>"
      ],
      "text/plain": [
       "                          Model           MSE      RMSE  R2 Score\n",
       "0             Linear Regression  1.873579e+09  43284.86 -0.058025\n",
       "0      Decision Tree Regression  2.511516e+08  15847.76  0.902647\n",
       "0      Random Forest Regression  2.344513e+08  15311.80  0.906180\n",
       "0  Gradient Boosting Regression  1.974534e+08  14051.81  0.923013\n",
       "0          ADA Boost Regression  5.582229e+08  23626.74  0.718593\n",
       "0           XG Boost Regression  2.005710e+08  14162.31  0.922270"
      ]
     },
     "execution_count": 62,
     "metadata": {},
     "output_type": "execute_result"
    }
   ],
   "source": [
    "# XG boost\n",
    "from xgboost import XGBRegressor\n",
    "\n",
    "xgb=XGBRegressor(verbosity=0) \n",
    "xgb.fit(x_train,y_train)\n",
    "y_pred=xgb.predict(x_test)\n",
    "MSE=mse(y_pred,y_test).round(2)\n",
    "RMSE=np.sqrt(MSE).round(2)\n",
    "R2=r2_score(y_pred, y_test)\n",
    "\n",
    "result=pd.DataFrame({\"Model\":[\"XG Boost Regression\"], \"MSE\":[MSE], \"RMSE\":[RMSE], \"R2 Score\":[R2]})\n",
    "\n",
    "results=pd.concat([results,result])\n",
    "results"
   ]
  },
  {
   "cell_type": "markdown",
   "metadata": {
    "id": "yJjblUiBGIbQ"
   },
   "source": [
    "Gradient Boosting Regression\thas highest R2 Score and least RMSE value"
   ]
  },
  {
   "cell_type": "code",
   "execution_count": 63,
   "metadata": {
    "colab": {
     "base_uri": "https://localhost:8080/"
    },
    "id": "vwY33JaZGRNX",
    "outputId": "6afefa5a-fc66-46f1-ad0b-13ee80ad17c8"
   },
   "outputs": [
    {
     "name": "stdout",
     "output_type": "stream",
     "text": [
      "Cross validations Score:\n",
      " [0.89485123 0.92625165 0.92277819 0.81303195 0.85398295 0.9199003\n",
      " 0.87086344 0.92933728 0.91360106 0.92271301 0.84411011 0.90324645\n",
      " 0.88021112 0.84126318 0.85516383 0.89355889 0.90755166 0.92865567\n",
      " 0.92575972 0.94259808]\n",
      "Average Cross validations Score: 0.8944714875338391\n",
      "Maximum Cross validations Score: 0.9425980846214339\n",
      "Minimum Cross validations Score: 0.8130319467941397\n"
     ]
    }
   ],
   "source": [
    "from sklearn.model_selection import cross_val_score, KFold, ShuffleSplit\n",
    "\n",
    "grb= GradientBoostingRegressor(n_estimators =50,random_state =42) \n",
    "\n",
    "k=ShuffleSplit(n_splits=20, test_size=0.2, random_state=20)\n",
    "score=cross_val_score(grb, X,y, cv=k)\n",
    "print(\"Cross validations Score:\\n\", score)\n",
    "print(\"Average Cross validations Score:\", score.mean())\n",
    "print(\"Maximum Cross validations Score:\", score.max())\n",
    "print(\"Minimum Cross validations Score:\", score.min())"
   ]
  },
  {
   "cell_type": "markdown",
   "metadata": {
    "id": "3_IzDihxHTMt"
   },
   "source": [
    "Average Cross validations Score is approximately 0.9. Hence model is good"
   ]
  }
 ],
 "metadata": {
  "colab": {
   "provenance": []
  },
  "kernelspec": {
   "display_name": "Python 3 (ipykernel)",
   "language": "python",
   "name": "python3"
  },
  "language_info": {
   "codemirror_mode": {
    "name": "ipython",
    "version": 3
   },
   "file_extension": ".py",
   "mimetype": "text/x-python",
   "name": "python",
   "nbconvert_exporter": "python",
   "pygments_lexer": "ipython3",
   "version": "3.11.5"
  }
 },
 "nbformat": 4,
 "nbformat_minor": 1
}
